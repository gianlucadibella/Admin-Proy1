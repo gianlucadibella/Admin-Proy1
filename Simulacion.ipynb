{
 "cells": [
  {
   "cell_type": "code",
   "execution_count": 1,
   "metadata": {},
   "outputs": [],
   "source": [
    "import time\n",
    "import paho.mqtt.client\n",
    "import paho.mqtt.publish\n",
    "import numpy as np\n",
    "import random\n",
    "import datetime\n",
    "import json\n",
    "import ssl\n",
    "import sys\n",
    "import psycopg2\n",
    "import pandas as pd\n",
    "from sqlalchemy import create_engine"
   ]
  },
  {
   "cell_type": "markdown",
   "metadata": {},
   "source": [
    "# Conexión al broker"
   ]
  },
  {
   "cell_type": "code",
   "execution_count": 2,
   "metadata": {},
   "outputs": [
    {
     "data": {
      "text/plain": [
       "0"
      ]
     },
     "execution_count": 2,
     "metadata": {},
     "output_type": "execute_result"
    }
   ],
   "source": [
    "host = \"broker.hivemq.com\"\n",
    "\n",
    "client = paho.mqtt.client.Client(\"Publicador de estantes\", False)\n",
    "\n",
    "client.qos = 2\n",
    "\n",
    "client.connect(host=host)"
   ]
  },
  {
   "cell_type": "markdown",
   "metadata": {},
   "source": [
    "# Conexión a la bd"
   ]
  },
  {
   "cell_type": "code",
   "execution_count": 4,
   "metadata": {},
   "outputs": [],
   "source": [
    "myConnection = psycopg2.connect(\n",
    "    host='lallah.db.elephantsql.com',\n",
    "    user ='okgedrkq',\n",
    "    password='OWJG1VssXGsfuUWTguGQoCmtZ5c5JZIp',\n",
    "    dbname='okgedrkq'\n",
    ")"
   ]
  },
  {
   "cell_type": "code",
   "execution_count": 5,
   "metadata": {},
   "outputs": [],
   "source": [
    "def select(query):\n",
    "    cur = myConnection.cursor()\n",
    "    try:\n",
    "        cur.execute(query)\n",
    "    except Exception as e:\n",
    "        myConnection.commit()\n",
    "        print('Error en el query:', e)\n",
    "    else:\n",
    "        records = cur.fetchall()\n",
    "        cur.close()\n",
    "        return records"
   ]
  },
  {
   "cell_type": "markdown",
   "metadata": {},
   "source": [
    "# Usaremos POO para manejar los estantes"
   ]
  },
  {
   "cell_type": "code",
   "execution_count": 6,
   "metadata": {},
   "outputs": [],
   "source": [
    "class Estante:\n",
    "    producto = 0\n",
    "    def __init__(self, id, id_sucursal, capacidad, disponibilidad):\n",
    "        self.id = id\n",
    "        self.id_sucursal = id_sucursal\n",
    "        self.capacidad = capacidad\n",
    "        self.disponibilidad = disponibilidad"
   ]
  },
  {
   "cell_type": "markdown",
   "metadata": {},
   "source": [
    "# Traer información de la  BD"
   ]
  },
  {
   "cell_type": "code",
   "execution_count": 14,
   "metadata": {},
   "outputs": [
    {
     "name": "stdout",
     "output_type": "stream",
     "text": [
      "[1, 2, 3, 4, 5, 6, 7, 8, 9, 10]\n",
      "[2, 1]\n"
     ]
    }
   ],
   "source": [
    "# Sucursal 1\n",
    "query = \"\"\" select * from Sucursal\n",
    "            Where id = 1\n",
    "\"\"\"\n",
    "sucursal_1 = select(query)\n",
    "sucursal_1 = sucursal_1[0]\n",
    "\n",
    "# Sucursal 2\n",
    "query = \"\"\" select * from Sucursal\n",
    "            Where id = 2\n",
    "\"\"\"\n",
    "sucursal_2 = select(query)\n",
    "sucursal_2 = sucursal_2[0]\n",
    "\n",
    "# Estantes de la sucursal 1\n",
    "query = \"\"\" \n",
    "    select * from estantes\n",
    "    where id_sucursal = 1\n",
    "\"\"\"\n",
    "estantes_1_DB = select(query)\n",
    "\n",
    "# Estantes de la sucursal 2\n",
    "query = \"\"\" \n",
    "    select * from estantes\n",
    "    where id_sucursal = 2\n",
    "\"\"\"\n",
    "estantes_2_DB = select(query)\n",
    "\n",
    "# Stock de la sucursal 1\n",
    "query = \"\"\" \n",
    "    select * from stock\n",
    "    where id_sucursal = 1\n",
    "\"\"\"\n",
    "stock_1 = select(query)\n",
    "\n",
    "# Stock de la sucursal 2\n",
    "query = \"\"\" \n",
    "    select * from stock\n",
    "    where id_sucursal = 2\n",
    "\"\"\"\n",
    "stock_2 = select(query)\n",
    "\n",
    "#El id de todos nuestros clientes registrados\n",
    "query = \"\"\" select id from cliente\n",
    "\"\"\"\n",
    "clients = select(query)\n",
    "clients = [row[0] for row in clients]\n",
    "print(clients)\n",
    "\n",
    "#El id de cliente de los clientes en el club\n",
    "query = \"\"\" select id_cliente from club_clientes\n",
    "\"\"\"\n",
    "club_clients = select(query)\n",
    "club_clients = [row[0] for row in club_clients]\n",
    "print(club_clients)"
   ]
  },
  {
   "cell_type": "markdown",
   "metadata": {},
   "source": [
    "# Funciones auxliares"
   ]
  },
  {
   "cell_type": "code",
   "execution_count": 13,
   "metadata": {},
   "outputs": [],
   "source": [
    "def insertVisit(date, sucursal, id):\n",
    "    theDate = date.timestamp()\n",
    "    query = f\"\"\" INSERT INTO visitas(fecha, id_sucursal, idcliente)\n",
    "    VALUES(to_timestamp ( {theDate} ),{sucursal}, {id});\n",
    "    \"\"\"\n",
    "    cur = myConnection.cursor()\n",
    "    cur.execute(query)\n",
    "    myConnection.commit()\n",
    "    print(\"nueva visita\")\n",
    "    \n",
    "def insertUnknownVisit(date, sucursal):\n",
    "    theDate = date.timestamp()\n",
    "    query = f\"\"\" INSERT INTO visitas(fecha, id_sucursal)\n",
    "    VALUES(to_timestamp ( {theDate} ),{sucursal});\n",
    "    \"\"\"\n",
    "    cur = myConnection.cursor()\n",
    "    cur.execute(query)\n",
    "    myConnection.commit()\n",
    "    print(\"nueva visita\")\n",
    "    \n",
    "def incrementVisit(id):\n",
    "    query = f\"\"\" \n",
    "        UPDATE club_clientes \n",
    "           SET visitas = visitas + 1\n",
    "        WHERE id_cliente = {id};\n",
    "    \"\"\"\n",
    "    cur = myConnection.cursor()\n",
    "    cur.execute(query)\n",
    "    myConnection.commit()\n",
    "    print(\"Una más al club\");\n",
    "    \n",
    "def actualizarEstante(estante, producto, cantidad, date):\n",
    "    theDate = date.timestamp()\n",
    "    query = f\"\"\" INSERT INTO unidades(id_producto, id_estante, cantidad, fecha)\n",
    "    VALUES({producto}, {estante}, {cantidad} ,to_timestamp ( {theDate} ));\n",
    "    \"\"\"\n",
    "    cur = myConnection.cursor()\n",
    "    cur.execute(query)\n",
    "    myConnection.commit()\n",
    "    \n",
    "def llenarEstante(estante, producto, date):\n",
    "    estante.producto = producto\n",
    "    estante.disponibilidad = 0\n",
    "    actualizarEstante(estante.id, producto, estante.capacidad, date)\n",
    "#     query = f\"\"\" INSERT INTO unidades(id_producto, id_estante, cantidad, fecha)\n",
    "#     VALUES({producto}, {estante.id}, {estante.capacidad} ,to_timestamp ( {theDate} ));\n",
    "#     \"\"\"\n",
    "#     cur = myConnection.cursor()\n",
    "#     cur.execute(query)\n",
    "#     myConnection.commit()\n",
    "    \n",
    "    \n",
    "def enviarAlerta(estante, sucursal):\n",
    "    payload={\n",
    "            \"mensaje\": f\"el estante {estante} en la sucursal {sucursal} necesita refill\",\n",
    "            }        \n",
    "    print (payload)\n",
    "    client.publish('alertas/estantes',json.dumps(payload),qos=2)\n",
    "    \n",
    "def insertClient(cedula, nombre, apellido):\n",
    "    query = f\"\"\" INSERT INTO cliente(cedula, nombre, apellido)\n",
    "    VALUES({cedula}, '{nombre}', '{apellido}')\n",
    "    RETURNING id;\n",
    "    \"\"\"\n",
    "    cur = myConnection.cursor()\n",
    "    cur.execute(query)\n",
    "    id_client = cur.fetchone()[0]\n",
    "    myConnection.commit()\n",
    "    print(\"nuevo cliente registrado\")\n",
    "    return id_client"
   ]
  },
  {
   "cell_type": "markdown",
   "metadata": {},
   "source": [
    "# Llenar estantes"
   ]
  },
  {
   "cell_type": "code",
   "execution_count": 9,
   "metadata": {},
   "outputs": [
    {
     "name": "stdout",
     "output_type": "stream",
     "text": [
      "0\n",
      "0\n"
     ]
    }
   ],
   "source": [
    "# LLenar estantes de la sucursal 1\n",
    "estantes_1 = []\n",
    "\n",
    "#Dejamos la disponibilidad en cero para que estén llenos\n",
    "for index, tuple in enumerate(estantes_1_DB):\n",
    "    estante = Estante(tuple[0], tuple[1], tuple[2], tuple[3])\n",
    "    estantes_1.append(estante)\n",
    "\n",
    "for i in range(len(estantes_1)):\n",
    "    random_product = random.randint(0, len(stock_1)-1)\n",
    "    llenarEstante(estantes_1[i], stock_1[random_product][1], datetime.datetime.now())\n",
    "\n",
    "    \n",
    "# LLenar estantes de la sucursal 2\n",
    "estantes_2 = []\n",
    "for index, tuple in enumerate(estantes_2_DB):\n",
    "    estante = Estante(tuple[0], tuple[1], tuple[2], tuple[3])\n",
    "    estantes_2.append(estante)\n",
    "    \n",
    "for i in range(len(estantes_2)):\n",
    "    random_product = random.randint(0, len(stock_2)-1)\n",
    "    llenarEstante(estantes_2[i], stock_2[random_product][1], datetime.datetime.now())\n",
    "\n",
    "print(estantes_1[4].disponibilidad)\n",
    "print(estantes_2[2].disponibilidad)\n"
   ]
  },
  {
   "cell_type": "markdown",
   "metadata": {},
   "source": [
    "# Definir variables principales"
   ]
  },
  {
   "cell_type": "code",
   "execution_count": 10,
   "metadata": {},
   "outputs": [],
   "source": [
    "#Máximo de personas en las sucursales\n",
    "max_personas_1 = sucursal_1[2]\n",
    "max_personas_2 = sucursal_2[2]\n",
    "\n",
    "#Contador de las personas en las sucursales\n",
    "cont_personas_1 = 0\n",
    "cont_personas_2 = 0\n",
    "\n",
    "#Compradores en los pasillos\n",
    "compradores_sucursal_1 = []\n",
    "compradores_sucursal_2 = []\n",
    "\n",
    "#Compradores en las colas\n",
    "cola_sucursal_1 = []\n",
    "cola_sucursal_2 = []\n",
    "\n",
    "#Nombres random para los clientes nuevos\n",
    "nombres_random = [\"George\", \"John\", \"Timmy\", \"Grisselba\", \"Gabriella\", \"Constantinopla\", \"Jeferson\", \"Alvin\", \"Arthur\", \"Ocus\"]\n",
    "apellidos_random = [\"Constanza\", \"Wick\", \"Testubinochi\", \"Larez\", \"Herrera\", \"Jackson\", \"Gutierritos\", \"Yakitori\", \"Fleck\", \"Pocus\" ]"
   ]
  },
  {
   "cell_type": "markdown",
   "metadata": {},
   "source": [
    "# Ciclo de la simulación"
   ]
  },
  {
   "cell_type": "code",
   "execution_count": 15,
   "metadata": {},
   "outputs": [
    {
     "name": "stdout",
     "output_type": "stream",
     "text": [
      "--------------------- Nuevo Día ---------------------\n",
      "2020-11-12 07:00:00.986119\n",
      "2020-11-12 07:00:00.986119\n",
      "nueva visita\n",
      "---- llevando productos ----\n",
      "2020-11-12 07:30:00.986119\n",
      "nueva visita\n",
      "---- llevando productos ----\n",
      "2020-11-12 08:00:00.986119\n",
      "nueva visita\n",
      "---- llevando productos ----\n",
      "---- llevando productos ----\n",
      "2020-11-12 08:30:00.986119\n",
      "nueva visita\n",
      "---- a pagar ----\n",
      "---- a pagar ----\n",
      "id del comprador 5\n",
      "id del comprador 1\n",
      "2020-11-12 09:00:00.986119\n",
      "nueva visita\n",
      "---- llevando productos ----\n",
      "ALERTA REFILL\n",
      "{'mensaje': 'el estante 1 en la sucursal 1 necesita refill'}\n",
      "---- llevando productos ----\n",
      "2020-11-12 09:30:00.986119\n",
      "nueva visita\n",
      "---- llevando productos ----\n",
      "---- a pagar ----\n",
      "---- llevando productos ----\n",
      "id del comprador 8\n",
      "2020-11-12 10:00:00.986119\n",
      "nueva visita\n",
      "---- a pagar ----\n",
      "---- llevando productos ----\n",
      "---- llevando productos ----\n",
      "id del comprador 10\n",
      "2020-11-12 10:30:00.986119\n",
      "nueva visita\n",
      "---- llevando productos ----\n",
      "---- a pagar ----\n",
      "---- llevando productos ----\n",
      "id del comprador 2\n",
      "2020-11-12 11:00:00.986119\n"
     ]
    },
    {
     "ename": "KeyboardInterrupt",
     "evalue": "",
     "output_type": "error",
     "traceback": [
      "\u001b[1;31m---------------------------------------------------------------------------\u001b[0m",
      "\u001b[1;31mKeyboardInterrupt\u001b[0m                         Traceback (most recent call last)",
      "\u001b[1;32m<ipython-input-15-826b5a80faf9>\u001b[0m in \u001b[0;36m<module>\u001b[1;34m\u001b[0m\n\u001b[0;32m     43\u001b[0m             \u001b[1;32melse\u001b[0m\u001b[1;33m:\u001b[0m\u001b[1;33m\u001b[0m\u001b[1;33m\u001b[0m\u001b[0m\n\u001b[0;32m     44\u001b[0m                 \u001b[1;31m#añadimos la visita del cliente, con su id\u001b[0m\u001b[1;33m\u001b[0m\u001b[1;33m\u001b[0m\u001b[1;33m\u001b[0m\u001b[0m\n\u001b[1;32m---> 45\u001b[1;33m                 \u001b[0minsertVisit\u001b[0m\u001b[1;33m(\u001b[0m\u001b[0mactualDate\u001b[0m\u001b[1;33m,\u001b[0m \u001b[1;36m1\u001b[0m\u001b[1;33m,\u001b[0m \u001b[0mrandom_id\u001b[0m\u001b[1;33m)\u001b[0m\u001b[1;33m;\u001b[0m\u001b[1;33m\u001b[0m\u001b[1;33m\u001b[0m\u001b[0m\n\u001b[0m\u001b[0;32m     46\u001b[0m \u001b[1;33m\u001b[0m\u001b[0m\n\u001b[0;32m     47\u001b[0m         \u001b[1;31m# Se decide si los clientes pasan a pagar o a buscar productos\u001b[0m\u001b[1;33m\u001b[0m\u001b[1;33m\u001b[0m\u001b[1;33m\u001b[0m\u001b[0m\n",
      "\u001b[1;32m<ipython-input-13-ceee4ae26030>\u001b[0m in \u001b[0;36minsertVisit\u001b[1;34m(date, sucursal, id)\u001b[0m\n\u001b[0;32m      5\u001b[0m     \"\"\"\n\u001b[0;32m      6\u001b[0m     \u001b[0mcur\u001b[0m \u001b[1;33m=\u001b[0m \u001b[0mmyConnection\u001b[0m\u001b[1;33m.\u001b[0m\u001b[0mcursor\u001b[0m\u001b[1;33m(\u001b[0m\u001b[1;33m)\u001b[0m\u001b[1;33m\u001b[0m\u001b[1;33m\u001b[0m\u001b[0m\n\u001b[1;32m----> 7\u001b[1;33m     \u001b[0mcur\u001b[0m\u001b[1;33m.\u001b[0m\u001b[0mexecute\u001b[0m\u001b[1;33m(\u001b[0m\u001b[0mquery\u001b[0m\u001b[1;33m)\u001b[0m\u001b[1;33m\u001b[0m\u001b[1;33m\u001b[0m\u001b[0m\n\u001b[0m\u001b[0;32m      8\u001b[0m     \u001b[0mmyConnection\u001b[0m\u001b[1;33m.\u001b[0m\u001b[0mcommit\u001b[0m\u001b[1;33m(\u001b[0m\u001b[1;33m)\u001b[0m\u001b[1;33m\u001b[0m\u001b[1;33m\u001b[0m\u001b[0m\n\u001b[0;32m      9\u001b[0m     \u001b[0mprint\u001b[0m\u001b[1;33m(\u001b[0m\u001b[1;34m\"nueva visita\"\u001b[0m\u001b[1;33m)\u001b[0m\u001b[1;33m\u001b[0m\u001b[1;33m\u001b[0m\u001b[0m\n",
      "\u001b[1;32m~\\anaconda3\\envs\\adminDB\\lib\\encodings\\utf_8.py\u001b[0m in \u001b[0;36mdecode\u001b[1;34m(input, errors)\u001b[0m\n\u001b[0;32m     13\u001b[0m \u001b[0mencode\u001b[0m \u001b[1;33m=\u001b[0m \u001b[0mcodecs\u001b[0m\u001b[1;33m.\u001b[0m\u001b[0mutf_8_encode\u001b[0m\u001b[1;33m\u001b[0m\u001b[1;33m\u001b[0m\u001b[0m\n\u001b[0;32m     14\u001b[0m \u001b[1;33m\u001b[0m\u001b[0m\n\u001b[1;32m---> 15\u001b[1;33m \u001b[1;32mdef\u001b[0m \u001b[0mdecode\u001b[0m\u001b[1;33m(\u001b[0m\u001b[0minput\u001b[0m\u001b[1;33m,\u001b[0m \u001b[0merrors\u001b[0m\u001b[1;33m=\u001b[0m\u001b[1;34m'strict'\u001b[0m\u001b[1;33m)\u001b[0m\u001b[1;33m:\u001b[0m\u001b[1;33m\u001b[0m\u001b[1;33m\u001b[0m\u001b[0m\n\u001b[0m\u001b[0;32m     16\u001b[0m     \u001b[1;32mreturn\u001b[0m \u001b[0mcodecs\u001b[0m\u001b[1;33m.\u001b[0m\u001b[0mutf_8_decode\u001b[0m\u001b[1;33m(\u001b[0m\u001b[0minput\u001b[0m\u001b[1;33m,\u001b[0m \u001b[0merrors\u001b[0m\u001b[1;33m,\u001b[0m \u001b[1;32mTrue\u001b[0m\u001b[1;33m)\u001b[0m\u001b[1;33m\u001b[0m\u001b[1;33m\u001b[0m\u001b[0m\n\u001b[0;32m     17\u001b[0m \u001b[1;33m\u001b[0m\u001b[0m\n",
      "\u001b[1;31mKeyboardInterrupt\u001b[0m: "
     ]
    }
   ],
   "source": [
    "#Fecha de hoy\n",
    "actualDate = datetime.datetime.now()\n",
    "while(True):\n",
    "    \n",
    "    #Empieza un nuevo día a las 7 am\n",
    "    print(\"--------------------- Nuevo Día ---------------------\")\n",
    "    actualDate = actualDate.replace(hour=7,minute=0,second=0)\n",
    "    print(actualDate)\n",
    "    \n",
    "    #Sucursales vacías\n",
    "    cont_personas_1 = 0\n",
    "    cont_personas_2 = 0\n",
    "    \n",
    "    compradores_sucursal_1 = []\n",
    "    compradores_sucursal_2 = []\n",
    "    \n",
    "    cola_sucursal_1 = []\n",
    "    cola_sucursal_2 = []\n",
    "    \n",
    "    \n",
    "    #cerramos a las 6 de la tarde\n",
    "    while(actualDate.hour < 18):\n",
    "        print(actualDate)\n",
    "        #----Empezamos con la sucursal 1 \n",
    "        \n",
    "        #------ Generamos una nueva entrada de un cliente si hay espacio\n",
    "        if(cont_personas_1 <= max_personas_1):\n",
    "            cont_personas_1 +=1\n",
    "            #generamos la identidad del cliente con un número random\n",
    "            random_id = random.randint(1, 10)\n",
    "            \n",
    "            persona = {\n",
    "                \"id\":random_id,\n",
    "                \"productos\":[],\n",
    "                \"carrito\":[]\n",
    "            }\n",
    "            compradores_sucursal_1.append(persona)\n",
    "\n",
    "            #Revisamos si el cliente es conocido\n",
    "            if(random_id not in clients):\n",
    "                #Añadimos la visita sin id\n",
    "                insertUnknownVisit(actualDate, 1);\n",
    "            else:  \n",
    "                #añadimos la visita del cliente, con su id\n",
    "                insertVisit(actualDate, 1, random_id);\n",
    "            \n",
    "        # Se decide si los clientes pasan a pagar o a buscar productos\n",
    "        for i in range(len(compradores_sucursal_1)):\n",
    "                #El tamaño de la lista cambia, hay que asegurarse de que no nos salgamos del rango\n",
    "                if(i < len(compradores_sucursal_1)):\n",
    "                    #Si el numero random es 1, enviamos el cliente a pagar, sino, a busacar un producto\n",
    "                    decision = random.randint(1, 3)\n",
    "                    \n",
    "                    if(decision == 1 and len(compradores_sucursal_1[i][\"productos\"]) > 0):\n",
    "                        print(\"---- a pagar ----\")\n",
    "                        cliente = compradores_sucursal_1.pop(i)\n",
    "                        cola_sucursal_1.append(cliente)\n",
    "                    else:\n",
    "                        #estante random\n",
    "                        random_estante = random.randint(0, len(estantes_1)-1)\n",
    "                        #random_cantidad = random.randint(1, (estantes_1[random_estante].capacidad - estantes_1[random_estante].disponibilidad))\n",
    "                        random_cantidad = random.randint(1, 15)\n",
    "                        #cantidad random de productos\n",
    "                        #capacidad - disponibilidad = cantidad de productos actuales\n",
    "        \n",
    "                        #Sólo metemos el producto al carrito si el cliente no lo ha metido aún, sino, no hacemos nada\n",
    "                        if(estantes_1[random_estante].producto not in compradores_sucursal_1[i][\"productos\"]):\n",
    "                        \n",
    "                            #Metemos al carrito los productos\n",
    "                            compradores_sucursal_1[i][\"productos\"].append(estantes_1[random_estante].producto)\n",
    "                            conjunto = {\n",
    "                                \"producto\":estantes_1[random_estante].producto,\n",
    "                                \"cantidad\":random_cantidad\n",
    "                            }\n",
    "                            compradores_sucursal_1[i][\"carrito\"].append(conjunto)\n",
    "                    \n",
    "                            print(\"---- llevando productos ----\")\n",
    "        \n",
    "                            #retiramos del estante la cantidad de productos que se llevaron\n",
    "                            estantes_1[random_estante].disponibilidad += random_cantidad\n",
    "                            cantidad_actual = estantes_1[random_estante].capacidad - estantes_1[random_estante].disponibilidad\n",
    "                            actualizarEstante(estantes_1[random_estante].id, estantes_1[random_estante].producto, cantidad_actual, actualDate)\n",
    "                            \n",
    "                            #calculamos el límite para hacer refill\n",
    "                            limite = (estantes_1[random_estante].capacidad*0.2)\n",
    "        \n",
    "                            if((estantes_1[random_estante].capacidad - estantes_1[random_estante].disponibilidad) <= limite):\n",
    "                                print(\"ALERTA REFILL\")\n",
    "            \n",
    "                                #Publicamos con el protocolo mqtt\n",
    "                                enviarAlerta(estantes_1[random_estante].id, 1)\n",
    "                                llenarEstante(estantes_1[random_estante], estantes_1[random_estante].producto, actualDate)\n",
    "        \n",
    "        #Los clientes en cola pagan\n",
    "        while(len(cola_sucursal_1)>0):\n",
    "            comprador = cola_sucursal_1.pop(0)\n",
    "            #Si no es un comprador registrado lo añadimos a la BD\n",
    "            print(\"id del comprador\",comprador[\"id\"])\n",
    "            if(comprador[\"id\"] not in clients):\n",
    "                #Asignamos un nombre random al comprador\n",
    "                nombre = nombres_random[random.randint(0, len(nombres_random)-1)]\n",
    "                apellido = apellidos_random[random.randint(0, len(apellidos_random)-1)]\n",
    "                cedula = random.randint(6000000, 30000000)\n",
    "                \n",
    "                id_client = insertClient(cedula, nombre, apellido)\n",
    "                \n",
    "                print(f\"id:{id_client} {nombre} {apellido} \")\n",
    "                \n",
    "                comprador[\"id\"] = id_client\n",
    "                \n",
    "                #actualizamos nuestra lista de clientes\n",
    "                query = \"\"\" select id from cliente\n",
    "                \"\"\"\n",
    "                clients = select(query)\n",
    "                clients = [row[0] for row in clients]\n",
    "                \n",
    "            cont_personas_1 -=1\n",
    "        \n",
    "        actualDate += datetime.timedelta(minutes=30)\n",
    "        time.sleep(0.5)\n",
    "   \n",
    "    #Aumentamos la fecha un día\n",
    "    actualDate += datetime.timedelta(days=1) "
   ]
  },
  {
   "cell_type": "code",
   "execution_count": null,
   "metadata": {},
   "outputs": [],
   "source": []
  },
  {
   "cell_type": "code",
   "execution_count": 90,
   "metadata": {},
   "outputs": [],
   "source": []
  },
  {
   "cell_type": "code",
   "execution_count": null,
   "metadata": {},
   "outputs": [],
   "source": []
  }
 ],
 "metadata": {
  "kernelspec": {
   "display_name": "Python 3",
   "language": "python",
   "name": "python3"
  },
  "language_info": {
   "codemirror_mode": {
    "name": "ipython",
    "version": 3
   },
   "file_extension": ".py",
   "mimetype": "text/x-python",
   "name": "python",
   "nbconvert_exporter": "python",
   "pygments_lexer": "ipython3",
   "version": "3.8.5"
  }
 },
 "nbformat": 4,
 "nbformat_minor": 4
}
