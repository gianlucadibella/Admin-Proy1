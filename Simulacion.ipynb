{
 "cells": [
  {
   "cell_type": "code",
   "execution_count": 1,
   "metadata": {},
   "outputs": [],
   "source": [
    "import time\n",
    "import paho.mqtt.client\n",
    "import paho.mqtt.publish\n",
    "import numpy as np\n",
    "import random\n",
    "import datetime\n",
    "import json\n",
    "import ssl\n",
    "import sys\n",
    "import psycopg2\n",
    "import pandas as pd\n",
    "from sqlalchemy import create_engine"
   ]
  },
  {
   "cell_type": "markdown",
   "metadata": {},
   "source": [
    "# Conexión al broker"
   ]
  },
  {
   "cell_type": "code",
   "execution_count": 2,
   "metadata": {},
   "outputs": [
    {
     "data": {
      "text/plain": [
       "0"
      ]
     },
     "execution_count": 2,
     "metadata": {},
     "output_type": "execute_result"
    }
   ],
   "source": [
    "host = \"broker.hivemq.com\"\n",
    "\n",
    "client = paho.mqtt.client.Client(\"Publicador de estantes\", False)\n",
    "\n",
    "client.qos = 2\n",
    "\n",
    "client.connect(host=host)"
   ]
  },
  {
   "cell_type": "markdown",
   "metadata": {},
   "source": [
    "# Conexión a la bd"
   ]
  },
  {
   "cell_type": "code",
   "execution_count": 3,
   "metadata": {},
   "outputs": [],
   "source": [
    "myConnection = psycopg2.connect(\n",
    "    host='lallah.db.elephantsql.com',\n",
    "    user ='okgedrkq',\n",
    "    password='OWJG1VssXGsfuUWTguGQoCmtZ5c5JZIp',\n",
    "    dbname='okgedrkq'\n",
    ")"
   ]
  },
  {
   "cell_type": "code",
   "execution_count": 4,
   "metadata": {},
   "outputs": [],
   "source": [
    "def select(query):\n",
    "    cur = myConnection.cursor()\n",
    "    try:\n",
    "        cur.execute(query)\n",
    "    except Exception as e:\n",
    "        myConnection.commit()\n",
    "        print('Error en el query:', e)\n",
    "    else:\n",
    "        records = cur.fetchall()\n",
    "        cur.close()\n",
    "        return records"
   ]
  },
  {
   "cell_type": "markdown",
   "metadata": {},
   "source": [
    "# Usaremos POO para manejar los estantes"
   ]
  },
  {
   "cell_type": "code",
   "execution_count": 5,
   "metadata": {},
   "outputs": [],
   "source": [
    "class Estante:\n",
    "    producto = 0\n",
    "    def __init__(self, id, id_sucursal, capacidad, disponibilidad):\n",
    "        self.id = id\n",
    "        self.id_sucursal = id_sucursal\n",
    "        self.capacidad = capacidad\n",
    "        self.disponibilidad = disponibilidad"
   ]
  },
  {
   "cell_type": "markdown",
   "metadata": {},
   "source": [
    "# Traer información de la  BD"
   ]
  },
  {
   "cell_type": "code",
   "execution_count": 6,
   "metadata": {},
   "outputs": [],
   "source": [
    "# Sucursal 1\n",
    "query = \"\"\" select * from Sucursal\n",
    "            Where id = 1\n",
    "\"\"\"\n",
    "sucursal_1 = select(query)\n",
    "sucursal_1 = sucursal_1[0]\n",
    "\n",
    "# Sucursal 2\n",
    "query = \"\"\" select * from Sucursal\n",
    "            Where id = 2\n",
    "\"\"\"\n",
    "sucursal_2 = select(query)\n",
    "sucursal_2 = sucursal_2[0]\n",
    "\n",
    "# Estantes de la sucursal 1\n",
    "query = \"\"\" \n",
    "    select * from estantes\n",
    "    where id_sucursal = 1\n",
    "\"\"\"\n",
    "estantes_1_DB = select(query)\n",
    "\n",
    "# Estantes de la sucursal 2\n",
    "query = \"\"\" \n",
    "    select * from estantes\n",
    "    where id_sucursal = 2\n",
    "\"\"\"\n",
    "estantes_2_DB = select(query)\n",
    "\n",
    "# Stock de la sucursal 1\n",
    "query = \"\"\" \n",
    "    select * from stock\n",
    "    where id_sucursal = 1\n",
    "\"\"\"\n",
    "stock_1 = select(query)\n",
    "\n",
    "# Stock de la sucursal 2\n",
    "query = \"\"\" \n",
    "    select * from stock\n",
    "    where id_sucursal = 2\n",
    "\"\"\"\n",
    "stock_2 = select(query)\n",
    "\n",
    "#El id de todos nuestros clientes registrados\n",
    "query = \"\"\" select id from cliente\n",
    "\"\"\"\n",
    "clients = select(query)\n",
    "clients = clients[0]\n",
    "\n",
    "#El id de cliente de los clientes en el club\n",
    "query = \"\"\" select id_cliente from club_clientes\n",
    "\"\"\"\n",
    "club_clients = select(query)\n",
    "club_clients = club_clients[0]"
   ]
  },
  {
   "cell_type": "markdown",
   "metadata": {},
   "source": [
    "# Llenar estantes"
   ]
  },
  {
   "cell_type": "code",
   "execution_count": 10,
   "metadata": {},
   "outputs": [
    {
     "name": "stdout",
     "output_type": "stream",
     "text": [
      "0\n",
      "0\n"
     ]
    }
   ],
   "source": [
    "# LLenar estantes de la sucursal 1\n",
    "estantes_1 = []\n",
    "\n",
    "#Dejamos la disponibilidad en cero para que estén llenos\n",
    "for index, tuple in enumerate(estantes_1_DB):\n",
    "    estante = Estante(tuple[0], tuple[1], tuple[2], tuple[3])\n",
    "    estantes_1.append(estante)\n",
    "\n",
    "for i in range(len(estantes_1)):\n",
    "    random_product = random.randint(0, len(stock_1)-1)\n",
    "    llenarEstante(estantes_1[i], stock_1[random_product][1])\n",
    "\n",
    "    \n",
    "# LLenar estantes de la sucursal 2\n",
    "estantes_2 = []\n",
    "for index, tuple in enumerate(estantes_2_DB):\n",
    "    estante = Estante(tuple[0], tuple[1], tuple[2], tuple[3])\n",
    "    estantes_2.append(estante)\n",
    "    \n",
    "for i in range(len(estantes_2)):\n",
    "    random_product = random.randint(0, len(stock_2)-1)\n",
    "    llenarEstante(estantes_2[i], stock_2[random_product][1])\n",
    "\n",
    "print(estantes_1[4].disponibilidad)\n",
    "print(estantes_2[2].disponibilidad)\n"
   ]
  },
  {
   "cell_type": "markdown",
   "metadata": {},
   "source": [
    "# Definir variables principales"
   ]
  },
  {
   "cell_type": "code",
   "execution_count": 19,
   "metadata": {},
   "outputs": [],
   "source": [
    "#Máximo de personas en las sucursales\n",
    "max_personas_1 = sucursal_1[2]\n",
    "max_personas_2 = sucursal_2[2]\n",
    "\n",
    "#Contador de las personas en las sucursales\n",
    "cont_personas_1 = 0\n",
    "cont_personas_2 = 0\n",
    "\n",
    "#Compradores en los pasillos\n",
    "compradores_sucursal_1 = []\n",
    "compradores_sucursal_2 = []\n",
    "\n",
    "#Compradores en las colas\n",
    "cola_sucursal_1 = []\n",
    "cola_sucursal_2 = []"
   ]
  },
  {
   "cell_type": "markdown",
   "metadata": {},
   "source": [
    "# Ciclo de la simulación"
   ]
  },
  {
   "cell_type": "code",
   "execution_count": 27,
   "metadata": {},
   "outputs": [
    {
     "name": "stdout",
     "output_type": "stream",
     "text": [
      "--------------------- Nuevo Día ---------------------\n",
      "2020-11-09 07:00:00.507053\n",
      "2020-11-09 07:00:00.507053\n",
      "personas\n",
      "10\n",
      "nueva visita\n",
      "---- llevando productos ----\n"
     ]
    },
    {
     "ename": "TypeError",
     "evalue": "list indices must be integers or slices, not str",
     "output_type": "error",
     "traceback": [
      "\u001b[1;31m---------------------------------------------------------------------------\u001b[0m",
      "\u001b[1;31mTypeError\u001b[0m                                 Traceback (most recent call last)",
      "\u001b[1;32m<ipython-input-27-cd9bdf40f101>\u001b[0m in \u001b[0;36m<module>\u001b[1;34m\u001b[0m\n\u001b[0;32m     87\u001b[0m                         \u001b[0mcarrito_1\u001b[0m\u001b[1;33m[\u001b[0m\u001b[1;34m\"cantidad\"\u001b[0m\u001b[1;33m]\u001b[0m \u001b[1;33m=\u001b[0m \u001b[0mrandom_cantidad\u001b[0m\u001b[1;33m\u001b[0m\u001b[1;33m\u001b[0m\u001b[0m\n\u001b[0;32m     88\u001b[0m                         \u001b[0mprint\u001b[0m\u001b[1;33m(\u001b[0m\u001b[1;34m\"---- llevando productos ----\"\u001b[0m\u001b[1;33m)\u001b[0m\u001b[1;33m\u001b[0m\u001b[1;33m\u001b[0m\u001b[0m\n\u001b[1;32m---> 89\u001b[1;33m                         \u001b[0mprint\u001b[0m\u001b[1;33m(\u001b[0m\u001b[0mcompradores_sucursal_1\u001b[0m\u001b[1;33m[\u001b[0m\u001b[0mi\u001b[0m\u001b[1;33m]\u001b[0m\u001b[1;33m[\u001b[0m\u001b[1;34m\"carrito\"\u001b[0m\u001b[1;33m]\u001b[0m\u001b[1;33m[\u001b[0m\u001b[1;34m\"producto\"\u001b[0m\u001b[1;33m]\u001b[0m\u001b[1;33m)\u001b[0m\u001b[1;33m\u001b[0m\u001b[1;33m\u001b[0m\u001b[0m\n\u001b[0m\u001b[0;32m     90\u001b[0m                         \u001b[0mprint\u001b[0m\u001b[1;33m(\u001b[0m\u001b[0mcompradores_sucursal_1\u001b[0m\u001b[1;33m[\u001b[0m\u001b[0mi\u001b[0m\u001b[1;33m]\u001b[0m\u001b[1;33m[\u001b[0m\u001b[1;34m\"carrito\"\u001b[0m\u001b[1;33m]\u001b[0m\u001b[1;33m[\u001b[0m\u001b[1;34m\"cantidad\"\u001b[0m\u001b[1;33m]\u001b[0m\u001b[1;33m)\u001b[0m\u001b[1;33m\u001b[0m\u001b[1;33m\u001b[0m\u001b[0m\n\u001b[0;32m     91\u001b[0m \u001b[1;33m\u001b[0m\u001b[0m\n",
      "\u001b[1;31mTypeError\u001b[0m: list indices must be integers or slices, not str"
     ]
    }
   ],
   "source": [
    "#Fecha de hoy\n",
    "actualDate = datetime.datetime.now()\n",
    "while(True):\n",
    "    \n",
    "    #Empieza un nuevo día a las 7 am\n",
    "    print(\"--------------------- Nuevo Día ---------------------\")\n",
    "    actualDate = actualDate.replace(hour=7,minute=0,second=0)\n",
    "    print(actualDate)\n",
    "    \n",
    "    #Sucursales vacías\n",
    "    cont_personas_1 = 0\n",
    "    cont_personas_2 = 0\n",
    "    \n",
    "    compradores_sucursal_1 = []\n",
    "    compradores_sucursal_2 = []\n",
    "    \n",
    "    cola_sucursal_1 = []\n",
    "    cola_sucursal_2 = []\n",
    "    \n",
    "    #Carritos de compras vacíos\n",
    "    carrito_1 = {\n",
    "                \"producto\":0,\n",
    "                \"cantidad\":0\n",
    "    }\n",
    "    carrito_2 = {\n",
    "                \"producto\":0,\n",
    "                \"cantidad\":0\n",
    "    }\n",
    "    \n",
    "    #cerramos a las 6 de la tarde\n",
    "    while(actualDate.hour < 18):\n",
    "        print(actualDate)\n",
    "        #----Empezamos con la sucursal 1 \n",
    "        \n",
    "        #------ Generamos una nueva entrada de un cliente si hay espacio\n",
    "        if(cont_personas_1 <= max_personas_1):\n",
    "            cont_personas_1 +=1\n",
    "            #generamos la identidad del cliente con un número random\n",
    "            random_id = random.randint(1, 10)\n",
    "            \n",
    "            persona = {\n",
    "                \"id\":random_id,\n",
    "                \"productos\":[],\n",
    "                \"carrito\":[]\n",
    "            }\n",
    "            compradores_sucursal_1.append(persona)\n",
    "            print(\"personas\")\n",
    "            for i in range(len(compradores_sucursal_1)):\n",
    "                print(compradores_sucursal_1[i][\"id\"])\n",
    "            #Revisamos si el cliente es parte del programa de fidelidad\n",
    "            if(random_id in club_clients):\n",
    "                #Añadimos una visita a su cuenta si tiene una cuenta\n",
    "                incrementVisit(1);\n",
    "            #añadimos la visita a la tabla de visitas\n",
    "            insertVisit(actualDate, 1);\n",
    "            \n",
    "        # El cliente pasa a elegir de los estantes\n",
    "        #estante random\n",
    "        #-------- prueba\n",
    "        for i in range(len(compradores_sucursal_1)):\n",
    "                #El tamaño de la lista cambia, hay que asegurarse de que no nos salgamos del rango\n",
    "                if(i < len(compradores_sucursal_1)):\n",
    "                    #Si el numero random es 1, enviamos el cliente a pagar, sino, a busacar un producto\n",
    "                    decision = random.randint(1, 3)\n",
    "                    if(decision == 1):\n",
    "                        print(\"---- a pagar ----\")\n",
    "                        print(\"i\",i)\n",
    "                        print(\"compradores\",len(compradores_sucursal_1))\n",
    "                        cliente = compradores_sucursal_1.pop(i)\n",
    "                        cola_sucursal_1.append(cliente)\n",
    "                    else:\n",
    "                        random_estante = random.randint(0, len(estantes_1)-1)\n",
    "                        random_cantidad = random.randint(1, (estantes_1[random_estante].capacidad - estantes_1[random_estante].disponibilidad))\n",
    "                        #cantidad random de productos\n",
    "                        #capacidad - disponibilidad = cantidad de productos actuales\n",
    "        \n",
    "        \n",
    "                        #Metemos al carrito los productos\n",
    "                        compradores_sucursal_1[i][\"productos\"].append(estantes_1[random_estante].producto)\n",
    "                        conjunto = {\n",
    "                            \"producto\":estantes_1[random_estante].producto,\n",
    "                            \"cantidad\":random_cantidad\n",
    "                        }\n",
    "                        compradores_sucursal_1[i][\"carrito\"].append(conjunto)\n",
    "                    \n",
    "                        carrito_1[\"producto\"] = estantes_1[random_estante].producto\n",
    "                        carrito_1[\"cantidad\"] = random_cantidad\n",
    "                        print(\"---- llevando productos ----\")\n",
    "                        print(carrito_1[\"producto\"])\n",
    "                        print(carrito_1[\"cantidad\"])\n",
    "        \n",
    "                        #retiramos del estante la cantidad de productos que se llevaron\n",
    "                        estantes_1[random_estante].disponibilidad += random_cantidad\n",
    "        \n",
    "                        #calculamos el límite para hacer refill\n",
    "                        limite = (estantes_1[random_estante].capacidad*0.2)\n",
    "        \n",
    "                        if((estantes_1[random_estante].capacidad - estantes_1[random_estante].disponibilidad) <= limite):\n",
    "                            print(\"ALERTA REFILL\")\n",
    "            \n",
    "                            #Publicamos con el protocolo mqtt\n",
    "                            enviarAlerta(estantes_1[random_estante].id, 1)\n",
    "                            llenarEstante(estantes_1[random_estante], estantes_1[random_estante].producto)\n",
    "            \n",
    "        \n",
    "        actualDate += datetime.timedelta(minutes=30)\n",
    "        time.sleep(0.5)\n",
    "   \n",
    "    #Aumentamos la fecha un día\n",
    "    actualDate += datetime.timedelta(days=1) "
   ]
  },
  {
   "cell_type": "markdown",
   "metadata": {},
   "source": [
    "# Funciones auxliares"
   ]
  },
  {
   "cell_type": "code",
   "execution_count": 8,
   "metadata": {},
   "outputs": [],
   "source": [
    "def insertVisit(date, sucursal):\n",
    "    theDate = date.timestamp()\n",
    "    query = f\"\"\" INSERT INTO visitas(fecha, id_sucursal)\n",
    "    VALUES(to_timestamp ( {theDate} ),{sucursal});\n",
    "    \"\"\"\n",
    "    cur = myConnection.cursor()\n",
    "    cur.execute(query)\n",
    "    myConnection.commit()\n",
    "    print(\"nueva visita\")\n",
    "    \n",
    "def incrementVisit(id):\n",
    "    query = f\"\"\" \n",
    "        UPDATE club_clientes \n",
    "           SET visitas = visitas + 1\n",
    "        WHERE id_cliente = {id};\n",
    "    \"\"\"\n",
    "    cur = myConnection.cursor()\n",
    "    cur.execute(query)\n",
    "    myConnection.commit()\n",
    "    print(\"Una más al club\");\n",
    "    \n",
    "def llenarEstante(estante, producto):\n",
    "    estante.producto = producto\n",
    "    estante.disponibilidad = 0\n",
    "    \n",
    "def enviarAlerta(estante, sucursal):\n",
    "    payload={\n",
    "            \"mensaje\": f\"el estante {estante} en la sucursal {sucursal} necesita refill\",\n",
    "            }        \n",
    "    print (payload)\n",
    "    client.publish('alertas/estantes',json.dumps(payload),qos=2)"
   ]
  },
  {
   "cell_type": "code",
   "execution_count": null,
   "metadata": {},
   "outputs": [],
   "source": []
  },
  {
   "cell_type": "code",
   "execution_count": 90,
   "metadata": {},
   "outputs": [],
   "source": []
  },
  {
   "cell_type": "code",
   "execution_count": null,
   "metadata": {},
   "outputs": [],
   "source": []
  }
 ],
 "metadata": {
  "kernelspec": {
   "display_name": "Python 3",
   "language": "python",
   "name": "python3"
  },
  "language_info": {
   "codemirror_mode": {
    "name": "ipython",
    "version": 3
   },
   "file_extension": ".py",
   "mimetype": "text/x-python",
   "name": "python",
   "nbconvert_exporter": "python",
   "pygments_lexer": "ipython3",
   "version": "3.8.5"
  }
 },
 "nbformat": 4,
 "nbformat_minor": 4
}
