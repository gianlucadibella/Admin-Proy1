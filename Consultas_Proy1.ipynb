{
  "nbformat": 4,
  "nbformat_minor": 0,
  "metadata": {
    "colab": {
      "name": "Consultas_Proy1.ipynb",
      "provenance": []
    },
    "kernelspec": {
      "name": "python3",
      "display_name": "Python 3"
    }
  },
  "cells": [
    {
      "cell_type": "code",
      "metadata": {
        "id": "uLbacQ19bVCF",
        "outputId": "b4441211-e51a-49e4-f71a-00bc0b7b5ffa",
        "colab": {
          "base_uri": "https://localhost:8080/"
        }
      },
      "source": [
        "!pip install paho-mqtt"
      ],
      "execution_count": 18,
      "outputs": [
        {
          "output_type": "stream",
          "text": [
            "Requirement already satisfied: paho-mqtt in /usr/local/lib/python3.6/dist-packages (1.5.1)\n"
          ],
          "name": "stdout"
        }
      ]
    },
    {
      "cell_type": "code",
      "metadata": {
        "id": "u13a0kBqfkAK",
        "outputId": "bd8e0ee4-7f8c-4888-d4d4-ea13e1e72800",
        "colab": {
          "base_uri": "https://localhost:8080/"
        }
      },
      "source": [
        "!pip install psycopg2-binary"
      ],
      "execution_count": 19,
      "outputs": [
        {
          "output_type": "stream",
          "text": [
            "Requirement already satisfied: psycopg2-binary in /usr/local/lib/python3.6/dist-packages (2.8.6)\n"
          ],
          "name": "stdout"
        }
      ]
    },
    {
      "cell_type": "code",
      "metadata": {
        "id": "aNv8D1CFgXDD"
      },
      "source": [
        " import ssl\n",
        "import sys\n",
        "import psycopg2\n",
        "from sqlalchemy import create_engine\n",
        "import paho.mqtt.client\n",
        "import json"
      ],
      "execution_count": 20,
      "outputs": []
    },
    {
      "cell_type": "code",
      "metadata": {
        "id": "bhBJvk8XbcWl"
      },
      "source": [
        "host=' lallah.db.elephantsql.com'\n",
        "user ='okgedrkq'\n",
        "password='OWJG1VssXGsfuUWTguGQoCmtZ5c5JZIp'\n",
        "dbname='okgedrkq'"
      ],
      "execution_count": 21,
      "outputs": []
    },
    {
      "cell_type": "code",
      "metadata": {
        "id": "mYWTQQqJdcH8"
      },
      "source": [
        "def select(query):\n",
        "    cur = myConnection.cursor()\n",
        "    try:\n",
        "        cur.execute(query)\n",
        "    except Exception as e:\n",
        "        myConnection.commit()\n",
        "        print('Error en el query:', e)\n",
        "    else:\n",
        "        records = cur.fetchall()\n",
        "        cur.close()\n",
        "        return records"
      ],
      "execution_count": 22,
      "outputs": []
    },
    {
      "cell_type": "code",
      "metadata": {
        "id": "cSC0qF4fddXk"
      },
      "source": [
        "myConnection = psycopg2.connect(host='lallah.db.elephantsql.com',\n",
        "                                user ='okgedrkq', password='OWJG1VssXGsfuUWTguGQoCmtZ5c5JZIp',\n",
        "                                dbname='okgedrkq')"
      ],
      "execution_count": 24,
      "outputs": []
    },
    {
      "cell_type": "markdown",
      "metadata": {
        "id": "y4sWe3SiOlKZ"
      },
      "source": [
        "# **Primer Query**\n",
        "\n",
        "Cuales son los clientes conocidos y desconocidos que mas han comprado en cada una de las tiendas.\n"
      ]
    },
    {
      "cell_type": "code",
      "metadata": {
        "id": "O10JMZDDOkWb",
        "outputId": "51bba59c-91ac-4b54-9c88-2097d0aa8fbd",
        "colab": {
          "base_uri": "https://localhost:8080/"
        }
      },
      "source": [
        "query = \"\"\"\n",
        "        WITH info AS (\n",
        "          WITH Top3MiembroTienda1 AS (\n",
        "            SELECT cliente.id AS Cliente, COUNT(factura.idcliente) AS N_Facturas, 'Miembro del club' AS club_clientes, 'Sucursal 1' AS sucursal\n",
        "            FROM cliente\n",
        "            INNER JOIN factura ON factura.idcliente = cliente.id\n",
        "            WHERE idsucursal = 1 AND cliente.id IN (\n",
        "              SELECT idcliente FROM club_clientes\n",
        "            )\n",
        "            GROUP BY Cliente\n",
        "            ORDER BY N_Facturas DESC\n",
        "            LIMIT 3\n",
        "          ),\n",
        "          Top3MiembroTienda2 AS (\n",
        "            SELECT cliente.id AS Cliente, COUNT(factura.idcliente) AS N_Facturas, 'Miembro del club' AS club_clientes, 'Sucursal 2' AS sucursal\n",
        "            FROM cliente\n",
        "            INNER JOIN factura ON factura.idcliente = cliente.id\n",
        "            WHERE idsucursal = 2 AND cliente.id IN (\n",
        "              SELECT idcliente FROM club_clientes\n",
        "            )\n",
        "            GROUP BY Cliente\n",
        "            ORDER BY N_Facturas DESC\n",
        "            LIMIT 3\n",
        "          ), \n",
        "          Top3DescTienda1 AS (\n",
        "            SELECT cliente.id AS Cliente, COUNT(factura.idcliente) AS N_Facturas, 'Cliente Desconocido' AS club_clientes, 'Sucursal 1' AS sucursal\n",
        "            FROM cliente\n",
        "            INNER JOIN factura ON factura.idcliente = cliente.id\n",
        "            WHERE idsucursal = 1 AND cliente.id NOT IN (\n",
        "              SELECT idcliente FROM club_clientes\n",
        "            )\n",
        "            GROUP BY Cliente\n",
        "            ORDER BY N_Facturas DESC\n",
        "            LIMIT 3\n",
        "          ),  \n",
        "          Top3DescTienda2 AS (\n",
        "            SELECT cliente.id AS Cliente, COUNT(factura.idcliente) AS N_Facturas, 'Cliente Desconocido' AS club_clientes, 'Sucursal 2' AS sucursal\n",
        "            FROM cliente\n",
        "            INNER JOIN factura ON factura.idcliente = cliente.id\n",
        "            WHERE idsucursal = 2 AND cliente.id NOT IN (\n",
        "              SELECT idcliente FROM club_clientes\n",
        "            )\n",
        "            GROUP BY Cliente\n",
        "            ORDER BY N_Facturas DESC\n",
        "            LIMIT 3\n",
        "          )\n",
        "          SELECT * FROM Top3MiembroTienda1\n",
        "          UNION\n",
        "          SELECT * FROM Top3MiembroTienda2\n",
        "          UNION\n",
        "          SELECT * FROM Top3DescTienda1\n",
        "          UNION\n",
        "          SELECT * FROM Top3DescTienda2\n",
        "        )\n",
        "        SELECT * FROM info\n",
        "        ORDER BY Sucursal, club_clientes, N_Facturas DESC\n",
        "\"\"\"\n",
        "select(query)"
      ],
      "execution_count": 44,
      "outputs": [
        {
          "output_type": "execute_result",
          "data": {
            "text/plain": [
              "[(4, 17, 'Miembro del club', 'Sucursal 1'),\n",
              " (1, 17, 'Miembro del club', 'Sucursal 1'),\n",
              " (7, 16, 'Miembro del club', 'Sucursal 1'),\n",
              " (2, 18, 'Miembro del club', 'Sucursal 2'),\n",
              " (10, 8, 'Miembro del club', 'Sucursal 2'),\n",
              " (8, 7, 'Miembro del club', 'Sucursal 2')]"
            ]
          },
          "metadata": {
            "tags": []
          },
          "execution_count": 44
        }
      ]
    },
    {
      "cell_type": "code",
      "metadata": {
        "id": "BaxcLt3DY6nJ"
      },
      "source": [
        " "
      ],
      "execution_count": null,
      "outputs": []
    },
    {
      "cell_type": "markdown",
      "metadata": {
        "id": "_nV-ZWg3O3xa"
      },
      "source": [
        "## **Segundo Query**\n",
        "\n",
        "Diga cual es la categoría de producto que menos se ha vendido en cada una de las tiendas."
      ]
    },
    {
      "cell_type": "code",
      "metadata": {
        "id": "flWyODRMPGgm",
        "outputId": "129b819f-f9b3-4868-9da7-2f6a86fdcad3",
        "colab": {
          "base_uri": "https://localhost:8080/"
        }
      },
      "source": [
        "query = \"\"\"\n",
        "      WITH info AS (\n",
        "        WITH SucursalMenosVentas1 AS (\n",
        "          SELECT productos.categoria as Categoria, SUM(ventas.cant) AS Ventas, sucursal.id \n",
        "          AS Sucursal FROM productos, ventas, sucursal\n",
        "          WHERE productos.id = ventas.id_prod AND sucursal.id = 1\n",
        "          GROUP BY Categoria, Sucursal\n",
        "          ORDER BY Ventas ASC\n",
        "          LIMIT 1\n",
        "        ),\n",
        "        SucursalMenosVentas2 AS (\n",
        "          SELECT productos.categoria as Categoria, SUM(ventas.cant) AS Ventas, sucursal.id\n",
        "          AS Sucursal FROM productos, ventas, sucursal\n",
        "          WHERE productos.id = ventas.id_prod AND sucursal.id = 2\n",
        "          GROUP BY Categoria, Sucursal\n",
        "          ORDER BY Ventas ASC\n",
        "          LIMIT 1\n",
        "        )\n",
        "        SELECT * FROM SucursalMenosVentas1\n",
        "        UNION\n",
        "        SELECT * FROM SucursalMenosVentas2\n",
        "      )\n",
        "      SELECT * FROM info\n",
        "      ORDER BY Sucursal ASC\n",
        "\"\"\"\n",
        "select(query)      "
      ],
      "execution_count": 43,
      "outputs": [
        {
          "output_type": "execute_result",
          "data": {
            "text/plain": [
              "[(2, 681, 1), (2, 681, 2)]"
            ]
          },
          "metadata": {
            "tags": []
          },
          "execution_count": 43
        }
      ]
    },
    {
      "cell_type": "markdown",
      "metadata": {
        "id": "NgcG_B-RkKSM"
      },
      "source": [
        "# **Tercer Query**\n",
        "\n",
        "Cuales es el top 5 de productos que mas se han vendido en cada una de las tiendas."
      ]
    },
    {
      "cell_type": "code",
      "metadata": {
        "id": "DtDqDcvXlIDG",
        "outputId": "661fb36f-b743-4d3e-8acc-150a06c56e36",
        "colab": {
          "base_uri": "https://localhost:8080/"
        }
      },
      "source": [
        "query = \"\"\"\n",
        "        WITH info AS (\n",
        "          WITH SucursalMasVentas1 AS (\n",
        "            SELECT productos.nombre AS Nombre, SUM(ventas.cant) AS Ventas, sucursal.id\n",
        "            AS Sucursal FROM productos, ventas, sucursal\n",
        "            WHERE productos.id = ventas.id_prod AND sucursal.id = 1\n",
        "            GROUP BY Nombre, Sucursal\n",
        "            ORDER BY Ventas DESC\n",
        "            LIMIT 5\n",
        "          ),\n",
        "          SucursalMasVentas2 AS (\n",
        "            SELECT productos.nombre AS Nombre, SUM(ventas.cant) AS Ventas, sucursal.id\n",
        "            AS Sucursal FROM Productos, ventas, sucursal\n",
        "            WHERE productos.id = ventas.id_prod AND sucursal.id = 2\n",
        "            GROUP BY Nombre, Sucursal\n",
        "            ORDER BY Ventas DESC\n",
        "            LIMIT 5\n",
        "          )\n",
        "          SELECT * FROM SucursalMasVentas1\n",
        "          UNION\n",
        "          SELECT * FROM SucursalMasVentas2\n",
        "        )\n",
        "        SELECT * FROM info\n",
        "        ORDER BY Sucursal ASC, Ventas DESC\n",
        "\"\"\"\n",
        "select(query)"
      ],
      "execution_count": 45,
      "outputs": [
        {
          "output_type": "execute_result",
          "data": {
            "text/plain": [
              "[('Macarrones con queso', 953, 1),\n",
              " ('Pescado', 929, 1),\n",
              " ('Oreos', 681, 1),\n",
              " ('Macarrones con queso', 953, 2),\n",
              " ('Pescado', 929, 2),\n",
              " ('Oreos', 681, 2)]"
            ]
          },
          "metadata": {
            "tags": []
          },
          "execution_count": 45
        }
      ]
    },
    {
      "cell_type": "markdown",
      "metadata": {
        "id": "sMatku8wwa9B"
      },
      "source": [
        "# **Cuarto Query**\n",
        "\n",
        "Diga todos los clientes que en los últimos 7 días a partir de la ejecución del query han comprado solo en una tienda y los que han comprado en las dos tiendas."
      ]
    },
    {
      "cell_type": "code",
      "metadata": {
        "id": "4W-IcR_2xm0K",
        "outputId": "c8a90e67-a965-4a97-c7ac-841cf816c547",
        "colab": {
          "base_uri": "https://localhost:8080/"
        }
      },
      "source": [
        "#Clientes que solo han comprado en una tienda.\n",
        "\n",
        "query = \"\"\"\n",
        "        WITH info AS (\n",
        "          WITH Sucursal1 AS (\n",
        "            SELECT factura.idcliente AS Cliente, factura.idsucursal AS SucursalVisitada FROM factura\n",
        "            WHERE DATE_PART ('day', current_date::timestamp - factura.fecha::timestamp) <= 7\n",
        "            AND factura.idsucursal = 1 \n",
        "            AND factura.idcliente NOT IN (\n",
        "              SELECT factura.idcliente AS Cliente FROM factura\n",
        "                WHERE DATE_PART('day', current_date::timestamp - factura.fecha::timestamp) <= 7\n",
        "                AND factura.idsucursal = 2\n",
        "            ) \n",
        "          GROUP BY Cliente, SucursalVisitada\n",
        "          ORDER BY Cliente\n",
        "\n",
        "          ),\n",
        "\n",
        "          Sucursal2 AS (\n",
        "            SELECT factura.idcliente AS Cliente, factura.idsucursal AS SucursalVisitada FROM factura\n",
        "            WHERE DATE_PART ('day', current_date::timestamp - factura.fecha::timestamp) <= 7\n",
        "            AND factura.idsucursal = 2 \n",
        "            AND factura.idcliente NOT IN (\n",
        "              SELECT factura.idcliente AS Cliente FROM factura\n",
        "                WHERE DATE_PART('day', current_date::timestamp - factura.fecha::timestamp) <= 7\n",
        "                AND factura.idsucursal = 1\n",
        "           )\n",
        "         GROUP BY Cliente, SucursalVisitada\n",
        "         ORDER BY Cliente\n",
        "\n",
        "        )\n",
        "        SELECT * FROM Sucursal1\n",
        "        UNION \n",
        "        SELECT * FROM Sucursal2\n",
        "\n",
        "     )\n",
        "     SELECT * FROM info\n",
        "     ORDER BY SucursalVisitada ASC, Cliente\n",
        "\n",
        "\"\"\"\n",
        "select(query)        "
      ],
      "execution_count": 41,
      "outputs": [
        {
          "output_type": "execute_result",
          "data": {
            "text/plain": [
              "[]"
            ]
          },
          "metadata": {
            "tags": []
          },
          "execution_count": 41
        }
      ]
    },
    {
      "cell_type": "code",
      "metadata": {
        "id": "6JVz2lDH-H5p",
        "outputId": "47d60b23-15e6-4caa-8e8c-999df446d8fb",
        "colab": {
          "base_uri": "https://localhost:8080/"
        }
      },
      "source": [
        "#Clientes que han comprado en las dos tiendas. \n",
        "\n",
        "query = \"\"\"\n",
        "        WITH info AS (\n",
        "          WITH Sucursales AS (\n",
        "            SELECT factura.idcliente AS Cliente, factura.idsucursal AS SucursalesVisitadas FROM factura\n",
        "            WHERE DATE_PART('day', current_date::timestamp - factura.fecha::timestamp) <= 7\n",
        "            GROUP BY Cliente, SucursalesVisitadas\n",
        "            ORDER BY Cliente, SucursalesVisitadas\n",
        "          )\n",
        "          SELECT Cliente, COUNT(SucursalesVisitadas) AS CantVisitadas FROM Sucursales\n",
        "          GROUP BY Cliente \n",
        "        )\n",
        "        SELECT Cliente FROM info \n",
        "        WHERE CantVisitadas = 2\n",
        "        ORDER BY Cliente\n",
        "\"\"\"        \n",
        "select(query)"
      ],
      "execution_count": 40,
      "outputs": [
        {
          "output_type": "execute_result",
          "data": {
            "text/plain": [
              "[(1,), (2,), (3,), (4,), (5,), (6,), (7,), (8,), (9,), (10,)]"
            ]
          },
          "metadata": {
            "tags": []
          },
          "execution_count": 40
        }
      ]
    },
    {
      "cell_type": "markdown",
      "metadata": {
        "id": "0mDQ0LyzMPRA"
      },
      "source": [
        "# **Quinto Query**\n",
        "\n",
        "Haga un análisis por estante de cuales categorías de producto tienen mayor rotación deinventario y haga una propuesta de modificación."
      ]
    },
    {
      "cell_type": "code",
      "metadata": {
        "id": "U7bOTfw8MOch",
        "outputId": "d81b3107-f155-452f-b294-20d79a9ff11e",
        "colab": {
          "base_uri": "https://localhost:8080/"
        }
      },
      "source": [
        "query = \"\"\"\n",
        "       WITH Propuesta AS (\n",
        "          WITH info AS (\n",
        "            SELECT productos.categoria AS Categoria, COUNT(restock_estantes.id_estante) AS CantRotacion, restock_estantes.fecha::date AS FechaRotacion\n",
        "            FROM restock_estantes\n",
        "            INNER JOIN estantes ON estantes.id = restock_estantes.id_estante\n",
        "            INNER JOIN stock ON stock.id_producto = restock_estantes.id_producto\n",
        "\t\t\t      INNER JOIN productos ON productos.id = restock_estantes.id_producto\n",
        "            WHERE estantes.id_sucursal = stock.id_sucursal\n",
        "            GROUP BY Categoria, FechaRotacion\n",
        "            ORDER BY FechaRotacion, Categoria\n",
        "          )\n",
        "          SELECT Categoria, CAST(AVG(CantRotacion) AS INT) AS RellenoxDia\n",
        "          FROM info\n",
        "          GROUP BY Categoria \n",
        "        )\n",
        "        SELECT Categoria, RellenoxDia, CASE\n",
        "              WHEN RellenoxDia > 2 THEN 'Estante con mucha rotacion, debe aumentarsele la capacidad.' \n",
        "              ELSE 'Estante con capacidad adecuada.'\n",
        "              END AS Propuesta\n",
        "        FROM Propuesta\n",
        "        ORDER BY RellenoxDia DESC, Categoria \n",
        "\"\"\"\n",
        "select(query)"
      ],
      "execution_count": 31,
      "outputs": [
        {
          "output_type": "execute_result",
          "data": {
            "text/plain": [
              "[(1, 2, 'Estante con capacidad adecuada.'),\n",
              " (2, 2, 'Estante con capacidad adecuada.'),\n",
              " (3, 2, 'Estante con capacidad adecuada.')]"
            ]
          },
          "metadata": {
            "tags": []
          },
          "execution_count": 31
        }
      ]
    },
    {
      "cell_type": "markdown",
      "metadata": {
        "id": "2hrr4U6oV24A"
      },
      "source": [
        "# **Sexto Query**\n",
        "\n",
        "Encuentre a todos los clientes que han pagado con 2 bancos distintos en la ultima semana.\n",
        "Enumérelos y diga si son parte del programa de afiliados."
      ]
    },
    {
      "cell_type": "code",
      "metadata": {
        "id": "64ZcEWutV3fv",
        "outputId": "07cd9ef8-8c30-4180-98b3-ac130f6b9bd8",
        "colab": {
          "base_uri": "https://localhost:8080/"
        }
      },
      "source": [
        "query =\"\"\"\n",
        "      WITH Cuentas AS (\n",
        "        WITH Cantidad AS (\n",
        "          SELECT idcliente AS Cliente, banco AS CantBancos FROM factura\n",
        "          WHERE DATE_PART ('day', current_date::timestamp - factura.fecha::timestamp) <= 7\n",
        "          GROUP BY Cliente, CantBancos\n",
        "          ORDER BY Cliente, CantBancos\n",
        "        )\n",
        "        SELECT Cliente, COUNT(CantBancos) AS Cuentas FROM Cantidad\n",
        "        GROUP BY Cliente\n",
        "        ORDER BY Cuentas DESC\n",
        "\n",
        "      ),\n",
        "      ClientesClub AS(\n",
        "        SELECT cliente.id AS Cliente, CASE\n",
        "          WHEN cliente.id IN (\n",
        "            SELECT id FROM club_clientes\n",
        "            )THEN 'Miembro del Club' ELSE 'Desconocido'\n",
        "          END AS ClientesClub\n",
        "       FROM cliente     \n",
        "      )\n",
        "\n",
        "      SELECT Cuentas.Cliente, Cuentas.Cuentas AS CantBancos, ClientesClub.ClientesClub \n",
        "      FROM Cuentas, ClientesClub\n",
        "      WHERE Cuentas >= 2 AND Cuentas.Cliente = ClientesClub.Cliente\n",
        "\"\"\"\n",
        "select(query)      \n"
      ],
      "execution_count": 46,
      "outputs": [
        {
          "output_type": "execute_result",
          "data": {
            "text/plain": [
              "[(4, 3, 'Miembro del Club'),\n",
              " (3, 3, 'Miembro del Club'),\n",
              " (10, 3, 'Miembro del Club'),\n",
              " (9, 3, 'Miembro del Club'),\n",
              " (7, 3, 'Miembro del Club'),\n",
              " (1, 3, 'Miembro del Club'),\n",
              " (5, 3, 'Miembro del Club'),\n",
              " (2, 3, 'Miembro del Club'),\n",
              " (6, 3, 'Miembro del Club'),\n",
              " (8, 3, 'Miembro del Club')]"
            ]
          },
          "metadata": {
            "tags": []
          },
          "execution_count": 46
        }
      ]
    }
  ]
}