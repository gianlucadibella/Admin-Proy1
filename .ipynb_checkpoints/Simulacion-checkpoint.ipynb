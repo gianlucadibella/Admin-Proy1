{
 "cells": [
  {
   "cell_type": "code",
   "execution_count": 80,
   "metadata": {},
   "outputs": [],
   "source": [
    "import time\n",
    "import paho.mqtt.client\n",
    "import paho.mqtt.publish\n",
    "import numpy as np\n",
    "import random\n",
    "import datetime\n",
    "import json\n",
    "import ssl\n",
    "import sys\n",
    "import psycopg2\n",
    "import pandas as pd\n",
    "from sqlalchemy import create_engine"
   ]
  },
  {
   "cell_type": "markdown",
   "metadata": {},
   "source": [
    "# Conexión al broker"
   ]
  },
  {
   "cell_type": "code",
   "execution_count": 81,
   "metadata": {},
   "outputs": [
    {
     "data": {
      "text/plain": [
       "0"
      ]
     },
     "execution_count": 81,
     "metadata": {},
     "output_type": "execute_result"
    }
   ],
   "source": [
    "host = \"broker.hivemq.com\"\n",
    "\n",
    "client = paho.mqtt.client.Client(\"Publicador de estantes\", False)\n",
    "\n",
    "client.qos = 2\n",
    "\n",
    "client.connect(host=host)"
   ]
  },
  {
   "cell_type": "markdown",
   "metadata": {},
   "source": [
    "# Conexión a la bd"
   ]
  },
  {
   "cell_type": "code",
   "execution_count": 88,
   "metadata": {},
   "outputs": [],
   "source": [
    "myConnection = psycopg2.connect(\n",
    "    host='lallah.db.elephantsql.com',\n",
    "    user ='okgedrkq',\n",
    "    password='OWJG1VssXGsfuUWTguGQoCmtZ5c5JZIp',\n",
    "    dbname='okgedrkq'\n",
    ")"
   ]
  },
  {
   "cell_type": "code",
   "execution_count": 83,
   "metadata": {},
   "outputs": [],
   "source": [
    "def select(query):\n",
    "    cur = myConnection.cursor()\n",
    "    try:\n",
    "        cur.execute(query)\n",
    "    except Exception as e:\n",
    "        myConnection.commit()\n",
    "        print('Error en el query:', e)\n",
    "    else:\n",
    "        records = cur.fetchall()\n",
    "        cur.close()\n",
    "        return records"
   ]
  },
  {
   "cell_type": "code",
   "execution_count": null,
   "metadata": {},
   "outputs": [],
   "source": [
    "class Estante:\n",
    "    productos = []\n",
    "    def __init__(self, id, id_sucursal, capacidad, disponibilidad):\n",
    "        self.id = id\n",
    "        self.id_sucursal = id_sucursal\n",
    "        self.capacidad = capacidad\n",
    "        self.disponibilidad = disponibilidad"
   ]
  },
  {
   "cell_type": "markdown",
   "metadata": {},
   "source": [
    "# Traer información de la  BD"
   ]
  },
  {
   "cell_type": "code",
   "execution_count": 103,
   "metadata": {},
   "outputs": [],
   "source": [
    "# Sucursal 1\n",
    "query = \"\"\" select * from Sucursal\n",
    "            Where id = 1\n",
    "\"\"\"\n",
    "sucursal_1 = select(query)\n",
    "sucursal_1 = sucursal_1[0]\n",
    "\n",
    "# Sucursal 2\n",
    "query = \"\"\" select * from Sucursal\n",
    "            Where id = 2\n",
    "\"\"\"\n",
    "sucursal_2 = select(query)\n",
    "sucursal_2 = sucursal_2[0]\n",
    "\n",
    "# Estantes de la sucursal 1\n",
    "query = \"\"\" \n",
    "    select * from estantes\n",
    "    where id_sucursal = 1\n",
    "\"\"\"\n",
    "estantes_1DB = select(query)\n",
    "\n",
    "# Estantes de la sucursal 2\n",
    "query = \"\"\" \n",
    "    select * from estantes\n",
    "    where id_sucursal = 2\n",
    "\"\"\"\n",
    "estantes_2DB = select(query)\n",
    "\n",
    "#El id de todos nuestros clientes registrados\n",
    "query = \"\"\" select id from cliente\n",
    "\"\"\"\n",
    "clients = select(query)\n",
    "clients = clients[0]\n",
    "\n",
    "#El id de cliente de los clientes en el club\n",
    "query = \"\"\" select id_cliente from club_clientes\n",
    "\"\"\"\n",
    "club_clients = select(query)\n",
    "club_clients = club_clients[0]"
   ]
  },
  {
   "cell_type": "markdown",
   "metadata": {},
   "source": [
    "# Llenar estantes"
   ]
  },
  {
   "cell_type": "code",
   "execution_count": null,
   "metadata": {},
   "outputs": [],
   "source": [
    "# LLenar estantes de la sucursal 1\n",
    "for index, tuple in enumerate(list_of_tuples):\n",
    "    element_one = tuple[0]\n",
    "    element_two = tuple[1]\n",
    "    print(element_one, element_two)"
   ]
  },
  {
   "cell_type": "markdown",
   "metadata": {},
   "source": [
    "# Definir variables principales"
   ]
  },
  {
   "cell_type": "code",
   "execution_count": 46,
   "metadata": {},
   "outputs": [
    {
     "name": "stdout",
     "output_type": "stream",
     "text": [
      "2020-11-08 16:27:58.950845\n",
      "2020-11-08 07:00:00.950845\n",
      "2020-11-09 07:30:00.950845\n"
     ]
    }
   ],
   "source": [
    "#Productos en las tiendas\n",
    "productos_sucursal_1 = []\n",
    "productos_sucursal_2 = []\n",
    "\n",
    "max_personas_1 = sucursal_1[2]\n",
    "max_personas_2 = sucursal_2[2]\n",
    "\n",
    "#Contador de las personas en las sucursales\n",
    "cont_personas_1 = 0\n",
    "cont_personas_2 = 0\n"
   ]
  },
  {
   "cell_type": "markdown",
   "metadata": {},
   "source": [
    "# Ciclo de la simulación"
   ]
  },
  {
   "cell_type": "code",
   "execution_count": 95,
   "metadata": {},
   "outputs": [
    {
     "name": "stdout",
     "output_type": "stream",
     "text": [
      "--------------------- Nuevo Día ---------------------\n",
      "2020-11-08 07:00:00.715532\n",
      "2020-11-08 07:00:00.715532\n",
      "nueva visita\n",
      "2020-11-08 07:30:00.715532\n",
      "nueva visita\n",
      "2020-11-08 08:00:00.715532\n",
      "nueva visita\n",
      "2020-11-08 08:30:00.715532\n",
      "nueva visita\n",
      "2020-11-08 09:00:00.715532\n",
      "nueva visita\n",
      "2020-11-08 09:30:00.715532\n",
      "nueva visita\n",
      "2020-11-08 10:00:00.715532\n",
      "nueva visita\n",
      "2020-11-08 10:30:00.715532\n",
      "nueva visita\n",
      "2020-11-08 11:00:00.715532\n"
     ]
    },
    {
     "ename": "KeyboardInterrupt",
     "evalue": "",
     "output_type": "error",
     "traceback": [
      "\u001b[1;31m---------------------------------------------------------------------------\u001b[0m",
      "\u001b[1;31mKeyboardInterrupt\u001b[0m                         Traceback (most recent call last)",
      "\u001b[1;32m<ipython-input-95-ec27358dbb70>\u001b[0m in \u001b[0;36m<module>\u001b[1;34m\u001b[0m\n\u001b[0;32m     28\u001b[0m                 \u001b[0mincrementVisit\u001b[0m\u001b[1;33m(\u001b[0m\u001b[1;36m1\u001b[0m\u001b[1;33m)\u001b[0m\u001b[1;33m;\u001b[0m\u001b[1;33m\u001b[0m\u001b[1;33m\u001b[0m\u001b[0m\n\u001b[0;32m     29\u001b[0m             \u001b[1;31m#añadimos la visita a la tabla de visitas\u001b[0m\u001b[1;33m\u001b[0m\u001b[1;33m\u001b[0m\u001b[1;33m\u001b[0m\u001b[0m\n\u001b[1;32m---> 30\u001b[1;33m             \u001b[0minsertVisit\u001b[0m\u001b[1;33m(\u001b[0m\u001b[0mactualDate\u001b[0m\u001b[1;33m,\u001b[0m \u001b[1;36m1\u001b[0m\u001b[1;33m)\u001b[0m\u001b[1;33m;\u001b[0m\u001b[1;33m\u001b[0m\u001b[1;33m\u001b[0m\u001b[0m\n\u001b[0m\u001b[0;32m     31\u001b[0m \u001b[1;33m\u001b[0m\u001b[0m\n\u001b[0;32m     32\u001b[0m \u001b[1;33m\u001b[0m\u001b[0m\n",
      "\u001b[1;32m<ipython-input-94-e6b297bfa779>\u001b[0m in \u001b[0;36minsertVisit\u001b[1;34m(date, sucursal)\u001b[0m\n\u001b[0;32m      5\u001b[0m     \"\"\"\n\u001b[0;32m      6\u001b[0m     \u001b[0mcur\u001b[0m \u001b[1;33m=\u001b[0m \u001b[0mmyConnection\u001b[0m\u001b[1;33m.\u001b[0m\u001b[0mcursor\u001b[0m\u001b[1;33m(\u001b[0m\u001b[1;33m)\u001b[0m\u001b[1;33m\u001b[0m\u001b[1;33m\u001b[0m\u001b[0m\n\u001b[1;32m----> 7\u001b[1;33m     \u001b[0mcur\u001b[0m\u001b[1;33m.\u001b[0m\u001b[0mexecute\u001b[0m\u001b[1;33m(\u001b[0m\u001b[0mquery\u001b[0m\u001b[1;33m)\u001b[0m\u001b[1;33m\u001b[0m\u001b[1;33m\u001b[0m\u001b[0m\n\u001b[0m\u001b[0;32m      8\u001b[0m     \u001b[0mmyConnection\u001b[0m\u001b[1;33m.\u001b[0m\u001b[0mcommit\u001b[0m\u001b[1;33m(\u001b[0m\u001b[1;33m)\u001b[0m\u001b[1;33m\u001b[0m\u001b[1;33m\u001b[0m\u001b[0m\n\u001b[0;32m      9\u001b[0m     \u001b[0mprint\u001b[0m\u001b[1;33m(\u001b[0m\u001b[1;34m\"nueva visita\"\u001b[0m\u001b[1;33m)\u001b[0m\u001b[1;33m\u001b[0m\u001b[1;33m\u001b[0m\u001b[0m\n",
      "\u001b[1;32m~\\anaconda3\\envs\\adminDB\\lib\\encodings\\utf_8.py\u001b[0m in \u001b[0;36mdecode\u001b[1;34m(input, errors)\u001b[0m\n\u001b[0;32m     13\u001b[0m \u001b[0mencode\u001b[0m \u001b[1;33m=\u001b[0m \u001b[0mcodecs\u001b[0m\u001b[1;33m.\u001b[0m\u001b[0mutf_8_encode\u001b[0m\u001b[1;33m\u001b[0m\u001b[1;33m\u001b[0m\u001b[0m\n\u001b[0;32m     14\u001b[0m \u001b[1;33m\u001b[0m\u001b[0m\n\u001b[1;32m---> 15\u001b[1;33m \u001b[1;32mdef\u001b[0m \u001b[0mdecode\u001b[0m\u001b[1;33m(\u001b[0m\u001b[0minput\u001b[0m\u001b[1;33m,\u001b[0m \u001b[0merrors\u001b[0m\u001b[1;33m=\u001b[0m\u001b[1;34m'strict'\u001b[0m\u001b[1;33m)\u001b[0m\u001b[1;33m:\u001b[0m\u001b[1;33m\u001b[0m\u001b[1;33m\u001b[0m\u001b[0m\n\u001b[0m\u001b[0;32m     16\u001b[0m     \u001b[1;32mreturn\u001b[0m \u001b[0mcodecs\u001b[0m\u001b[1;33m.\u001b[0m\u001b[0mutf_8_decode\u001b[0m\u001b[1;33m(\u001b[0m\u001b[0minput\u001b[0m\u001b[1;33m,\u001b[0m \u001b[0merrors\u001b[0m\u001b[1;33m,\u001b[0m \u001b[1;32mTrue\u001b[0m\u001b[1;33m)\u001b[0m\u001b[1;33m\u001b[0m\u001b[1;33m\u001b[0m\u001b[0m\n\u001b[0;32m     17\u001b[0m \u001b[1;33m\u001b[0m\u001b[0m\n",
      "\u001b[1;31mKeyboardInterrupt\u001b[0m: "
     ]
    }
   ],
   "source": [
    "#Fecha de hoy\n",
    "actualDate = datetime.datetime.now()\n",
    "while(True):\n",
    "    \n",
    "    #Empieza un nuevo día a las 7 am\n",
    "    print(\"--------------------- Nuevo Día ---------------------\")\n",
    "    actualDate = actualDate.replace(hour=7,minute=0,second=0)\n",
    "    print(actualDate)\n",
    "    \n",
    "    #Sucursales vacías\n",
    "    cont_personas_1 = 0\n",
    "    cont_personas_2 = 0\n",
    "    \n",
    "    #cerramos a las 6 de la tarde\n",
    "    while(actualDate.hour < 18):\n",
    "        print(actualDate)\n",
    "        #----Empezamos con la sucursal 1 \n",
    "        \n",
    "        #------ Generamos una nueva entrada de un cliente si hay espacio\n",
    "        if(cont_personas_1 <= max_personas_1):\n",
    "            cont_personas_1 +=1\n",
    "            #generamos la identidad del cliente con un número random\n",
    "            random_id = random.randint(1, 10)\n",
    "            \n",
    "            #Revisamos si el cliente es parte del programa de fidelidad\n",
    "            if(random_id in club_clients):\n",
    "                #Añadimos una visita a su cuenta si tiene una cuenta\n",
    "                incrementVisit(1);\n",
    "            #añadimos la visita a la tabla de visitas\n",
    "            insertVisit(actualDate, 1);\n",
    "        \n",
    "        \n",
    "        \n",
    "        \n",
    "        \n",
    "        \n",
    "        actualDate += datetime.timedelta(minutes=30)\n",
    "        time.sleep(0.5)\n",
    "   \n",
    "    #Aumentamos la fecha un día\n",
    "    actualDate += datetime.timedelta(days=1) "
   ]
  },
  {
   "cell_type": "markdown",
   "metadata": {},
   "source": [
    "# Funciones auxliares"
   ]
  },
  {
   "cell_type": "code",
   "execution_count": 94,
   "metadata": {},
   "outputs": [],
   "source": [
    "def insertVisit(date, sucursal):\n",
    "    theDate = date.timestamp()\n",
    "    query = f\"\"\" INSERT INTO visitas(fecha, id_sucursal)\n",
    "    VALUES(to_timestamp ( {theDate} ),{sucursal});\n",
    "    \"\"\"\n",
    "    cur = myConnection.cursor()\n",
    "    cur.execute(query)\n",
    "    myConnection.commit()\n",
    "    print(\"nueva visita\")\n",
    "    \n",
    "def incrementVisit(id):\n",
    "    query = f\"\"\" \n",
    "        UPDATE club_clientes \n",
    "           SET visitas = visitas + 1\n",
    "        WHERE id_cliente = {id};\n",
    "    \"\"\"\n",
    "    cur = myConnection.cursor()\n",
    "    cur.execute(query)\n",
    "    myConnection.commit()\n",
    "    print(\"Una más al club\");"
   ]
  },
  {
   "cell_type": "code",
   "execution_count": 90,
   "metadata": {},
   "outputs": [],
   "source": []
  },
  {
   "cell_type": "code",
   "execution_count": null,
   "metadata": {},
   "outputs": [],
   "source": []
  }
 ],
 "metadata": {
  "kernelspec": {
   "display_name": "Python 3",
   "language": "python",
   "name": "python3"
  },
  "language_info": {
   "codemirror_mode": {
    "name": "ipython",
    "version": 3
   },
   "file_extension": ".py",
   "mimetype": "text/x-python",
   "name": "python",
   "nbconvert_exporter": "python",
   "pygments_lexer": "ipython3",
   "version": "3.8.5"
  }
 },
 "nbformat": 4,
 "nbformat_minor": 4
}
