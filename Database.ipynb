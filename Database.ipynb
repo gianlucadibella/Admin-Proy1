{
 "cells": [
  {
   "cell_type": "code",
   "execution_count": 1,
   "metadata": {},
   "outputs": [],
   "source": [
    "import ssl\n",
    "import sys\n",
    "import psycopg2\n",
    "from sqlalchemy import create_engine\n",
    "import json"
   ]
  },
  {
   "cell_type": "code",
   "execution_count": 2,
   "metadata": {},
   "outputs": [],
   "source": [
    "myConnection = psycopg2.connect(\n",
    "    host='lallah.db.elephantsql.com',\n",
    "    user ='okgedrkq',\n",
    "    password='OWJG1VssXGsfuUWTguGQoCmtZ5c5JZIp',\n",
    "    dbname='okgedrkq'\n",
    ")"
   ]
  },
  {
   "cell_type": "markdown",
   "metadata": {},
   "source": [
    "# Tabla de sucursales"
   ]
  },
  {
   "cell_type": "code",
   "execution_count": null,
   "metadata": {},
   "outputs": [],
   "source": [
    "query =\"\"\" CREATE TABLE IF NOT EXISTS Sucursal \n",
    "            ( id SERIAL PRIMARY KEY,\n",
    "              ubicacion VARCHAR(50),\n",
    "              max_personas INTEGER NOT NULL\n",
    "            )   \n",
    "            \"\"\"\n",
    "cur = myConnection.cursor()\n",
    "cur.execute(query)\n",
    "myConnection.commit()"
   ]
  },
  {
   "cell_type": "markdown",
   "metadata": {},
   "source": [
    "# Tabla de estantes"
   ]
  },
  {
   "cell_type": "code",
   "execution_count": null,
   "metadata": {},
   "outputs": [],
   "source": [
    "query =\"\"\" CREATE TABLE IF NOT EXISTS Estantes \n",
    "            ( id SERIAL PRIMARY KEY,\n",
    "            id_sucursal INTEGER,\n",
    "              capacidad INTEGER NOT NULL,\n",
    "              disponibilidad INTEGER NOT NULL,\n",
    "              FOREIGN KEY (id_sucursal)\n",
    "                REFERENCES Sucursal(id)\n",
    "                ON UPDATE CASCADE\n",
    "            )   \n",
    "            \"\"\"\n",
    "cur = myConnection.cursor()\n",
    "cur.execute(query)\n",
    "myConnection.commit()"
   ]
  },
  {
   "cell_type": "markdown",
   "metadata": {},
   "source": [
    "# Tabla de categorías"
   ]
  },
  {
   "cell_type": "code",
   "execution_count": null,
   "metadata": {},
   "outputs": [],
   "source": [
    "query =\"\"\" CREATE TABLE IF NOT EXISTS Categoria \n",
    "            ( id SERIAL PRIMARY KEY,\n",
    "            nombre VARCHAR(25)\n",
    "            )\n",
    "            \"\"\"\n",
    "cur = myConnection.cursor()\n",
    "cur.execute(query)\n",
    "myConnection.commit()"
   ]
  },
  {
   "cell_type": "markdown",
   "metadata": {},
   "source": [
    "# Tabla de producto"
   ]
  },
  {
   "cell_type": "code",
   "execution_count": null,
   "metadata": {},
   "outputs": [],
   "source": [
    "query =\"\"\" CREATE TABLE IF NOT EXISTS Productos \n",
    "            ( id SERIAL PRIMARY KEY,\n",
    "            nombre VARCHAR(25),\n",
    "              categoria INTEGER NOT NULL,\n",
    "              FOREIGN KEY (categoria)\n",
    "                REFERENCES Categoria(id)\n",
    "                ON UPDATE CASCADE\n",
    "            )   \n",
    "            \"\"\"\n",
    "cur = myConnection.cursor()\n",
    "cur.execute(query)\n",
    "myConnection.commit()"
   ]
  },
  {
   "cell_type": "markdown",
   "metadata": {},
   "source": [
    "# Tabla de Stock"
   ]
  },
  {
   "cell_type": "code",
   "execution_count": null,
   "metadata": {},
   "outputs": [],
   "source": [
    "query =\"\"\" CREATE TABLE IF NOT EXISTS Stock \n",
    "            ( id SERIAL PRIMARY KEY,\n",
    "              id_producto INTEGER NOT NULL,\n",
    "              id_sucursal INTEGER NOT NULL,\n",
    "              fecha TIMESTAMP NOT NULL,\n",
    "              cantidad INTEGER NOT NULL,\n",
    "              FOREIGN KEY (id_producto)\n",
    "                REFERENCES Productos(id)\n",
    "                ON UPDATE CASCADE,\n",
    "            FOREIGN KEY (id_sucursal)\n",
    "                REFERENCES Sucursal(id)\n",
    "                ON UPDATE CASCADE\n",
    "            )   \n",
    "            \"\"\"\n",
    "cur = myConnection.cursor()\n",
    "cur.execute(query)\n",
    "myConnection.commit()"
   ]
  },
  {
   "cell_type": "markdown",
   "metadata": {},
   "source": [
    "# Tabla de Unidades en venta"
   ]
  },
  {
   "cell_type": "code",
   "execution_count": null,
   "metadata": {},
   "outputs": [],
   "source": [
    "query =\"\"\" CREATE TABLE IF NOT EXISTS Stock \n",
    "            ( id SERIAL PRIMARY KEY,\n",
    "              id_producto INTEGER NOT NULL,\n",
    "              id_stock INTEGER NOT NULL,\n",
    "              cantidad INTEGER NOT NULL,\n",
    "              FOREIGN KEY (id_producto)\n",
    "                REFERENCES Productos(id)\n",
    "                ON UPDATE CASCADE,\n",
    "            FOREIGN KEY (id_stock)\n",
    "                REFERENCES Stock(id)\n",
    "                ON UPDATE CASCADE\n",
    "            )   \n",
    "            \"\"\"\n",
    "cur = myConnection.cursor()\n",
    "cur.execute(query)\n",
    "myConnection.commit()"
   ]
  },
  {
   "cell_type": "markdown",
   "metadata": {},
   "source": [
    "# Tabla de Precios"
   ]
  },
  {
   "cell_type": "code",
   "execution_count": null,
   "metadata": {},
   "outputs": [],
   "source": [
    "query = \"\"\"CREATE TABLE IF NOT EXISTS Precio(\n",
    "            ID SERIAL PRIMARY KEY,\n",
    "            monto float NOT NULL,\n",
    "            fecha timestamp NOT NULL,\n",
    "            idProducto INTEGER NOT NULL,\n",
    "            FOREIGN KEY(idProducto)\n",
    "            REFERENCES productos(id) \n",
    "            ON UPDATE CASCADE\n",
    "            )\"\"\"\n",
    "cur = myConnection.cursor()\n",
    "cur.execute(query)\n",
    "myConnection.commit()"
   ]
  },
  {
   "cell_type": "markdown",
   "metadata": {},
   "source": [
    "# Tabla de Facturas"
   ]
  },
  {
   "cell_type": "code",
   "execution_count": null,
   "metadata": {},
   "outputs": [],
   "source": [
    "query = \"\"\"CREATE TABLE IF NOT EXISTS Factura\n",
    "            (\n",
    "                ID SERIAL PRIMARY KEY,\n",
    "                fecha timestamp NOT NULL,\n",
    "                IS_PAGADA BOOLEAN NOT NULL,\n",
    "                MONTO_TOTAL float NOT NULL,\n",
    "                IVA float,\n",
    "                idCliente INTEGER NOT NULL,\n",
    "                FOREIGN KEY(idCliente)\n",
    "                REFERENCES cliente(id)\n",
    "                ON UPDATE CASCADE,\n",
    "                idSucursal INTEGER NOT NULL,\n",
    "                FOREIGN KEY(idSucursal)\n",
    "                REFERENCES Sucursal(id)\n",
    "            )\"\"\"\n",
    "cur = myConnection.cursor()\n",
    "cur.execute(query)\n",
    "cur.close()\n",
    "myConnection.commit()\n"
   ]
  },
  {
   "cell_type": "markdown",
   "metadata": {},
   "source": [
    "#### Alteré la tabla para no quitar los datos que ya estaban, para agregar el idSucursal en factura"
   ]
  },
  {
   "cell_type": "code",
   "execution_count": null,
   "metadata": {},
   "outputs": [],
   "source": [
    "query = \"\"\"ALTER TABLE Factura\n",
    "            ADD COLUMN idSucursal INTEGER NOT NULL\"\"\"\n",
    "cur = myConnection.cursor()\n",
    "cur.execute(query)\n",
    "cur.close()\n",
    "myConnection.commit()"
   ]
  },
  {
   "cell_type": "code",
   "execution_count": null,
   "metadata": {},
   "outputs": [],
   "source": [
    "query = \"\"\"ALTER TABLE FACTURA ADD CONSTRAINT idSucursal FOREIGN KEY (idSucursal) REFERENCES  Sucursal(id) MATCH FULL\"\"\"\n",
    "cur = myConnection.cursor()\n",
    "cur.execute(query)\n",
    "cur.close()\n",
    "myConnection.commit()"
   ]
  },
  {
   "cell_type": "code",
   "execution_count": null,
   "metadata": {},
   "outputs": [],
   "source": [
    "query = \"\"\"alter table factura alter column iva drop not null\"\"\"\n",
    "cur = myConnection.cursor()\n",
    "cur.execute(query)\n",
    "cur.close()\n",
    "myConnection.commit()"
   ]
  },
  {
   "cell_type": "code",
   "execution_count": null,
   "metadata": {},
   "outputs": [],
   "source": [
    "query = \"\"\"ALTER TABLE Factura\n",
    "            ADD COLUMN Banco VARCHAR(25)\"\"\"\n",
    "cur = myConnection.cursor()\n",
    "cur.execute(query)\n",
    "cur.close()\n",
    "myConnection.commit()"
   ]
  },
  {
   "cell_type": "code",
   "execution_count": 3,
   "metadata": {},
   "outputs": [],
   "source": [
    "query = \"\"\"ALTER TABLE Factura ALTER COLUMN banco DROP DEFAULT\"\"\"\n",
    "cur = myConnection.cursor()\n",
    "cur.execute(query)\n",
    "cur.close()\n",
    "myConnection.commit()"
   ]
  },
  {
   "cell_type": "code",
   "execution_count": 5,
   "metadata": {},
   "outputs": [],
   "source": [
    "query = \"\"\"UPDATE factura\n",
    "            SET banco = 'Banesco'\n",
    "            WHERE banco = NULL\"\"\"\n",
    "cur = myConnection.cursor()\n",
    "cur.execute(query)\n",
    "cur.close()\n",
    "myConnection.commit()"
   ]
  },
  {
   "cell_type": "markdown",
   "metadata": {},
   "source": [
    "# Tabla de Ventas"
   ]
  },
  {
   "cell_type": "code",
   "execution_count": null,
   "metadata": {},
   "outputs": [],
   "source": [
    "query = \"\"\"CREATE TABLE IF NOT EXISTS Ventas\n",
    "            (\n",
    "                ID SERIAL PRIMARY KEY,\n",
    "                CANT INTEGER NOT NULL,\n",
    "                MONTO float NOT NULL,\n",
    "                ID_Prod INTEGER NOT NULL,\n",
    "                ID_Factura INTEGER NOT NULL,\n",
    "                FOREIGN KEY(id_Factura)\n",
    "                REFERENCES factura(id)\n",
    "                ON UPDATE CASCADE,\n",
    "                FOREIGN KEY(ID_Prod)\n",
    "                REFERENCES productos(id)\n",
    "                ON UPDATE CASCADE\n",
    "            )\"\"\"\n",
    "cur = myConnection.cursor()\n",
    "cur.execute(query)\n",
    "cur.close()\n",
    "myConnection.commit()"
   ]
  },
  {
   "cell_type": "markdown",
   "metadata": {},
   "source": [
    "# Tabla de pagos"
   ]
  },
  {
   "cell_type": "code",
   "execution_count": null,
   "metadata": {},
   "outputs": [],
   "source": [
    "query = \"\"\"CREATE TABLE IF NOT EXISTS PAGO\n",
    "            (\n",
    "                ID SERIAL PRIMARY KEY,\n",
    "                MONTO float NOT NULL,\n",
    "                ID_Factura INTEGER NOT NULL,\n",
    "                FOREIGN KEY(id_Factura)\n",
    "                REFERENCES factura(id)\n",
    "                ON UPDATE CASCADE\n",
    "            ) \"\"\"\n",
    "cur = myConnection.cursor()\n",
    "cur.execute(query)\n",
    "cur.close()\n",
    "myConnection.commit()"
   ]
  },
  {
   "cell_type": "markdown",
   "metadata": {},
   "source": [
    "# Tabla de Instrumento "
   ]
  },
  {
   "cell_type": "code",
   "execution_count": null,
   "metadata": {},
   "outputs": [],
   "source": [
    "query = \"\"\"CREATE TABLE IF NOT EXISTS INSTRUMENTO\n",
    "            (\n",
    "                ID SERIAL PRIMARY KEY,\n",
    "                TIPO VARCHAR(15) NOT NULL,\n",
    "                BANCO VARCHAR(25),\n",
    "                NUMERO INTEGER,\n",
    "                ID_PAGO INTEGER NOT NULL,\n",
    "                FOREIGN KEY(ID_PAGO)\n",
    "                REFERENCES PAGO(id)\n",
    "                ON UPDATE CASCADE\n",
    "            ) \"\"\"\n",
    "cur = myConnection.cursor()\n",
    "cur.execute(query)\n",
    "cur.close()\n",
    "myConnection.commit()"
   ]
  },
  {
   "cell_type": "markdown",
   "metadata": {},
   "source": [
    "# Tabla de cliente"
   ]
  },
  {
   "cell_type": "code",
   "execution_count": null,
   "metadata": {},
   "outputs": [],
   "source": [
    "query =\"\"\" CREATE TABLE IF NOT EXISTS Cliente \n",
    "            ( id SERIAL PRIMARY KEY,\n",
    "            cedula INTEGER NOT NULL,\n",
    "              nombre VARCHAR(25),\n",
    "              apellido VARCHAR(25)\n",
    "            )   \n",
    "            \"\"\"\n",
    "cur = myConnection.cursor()\n",
    "cur.execute(query)\n",
    "myConnection.commit()"
   ]
  },
  {
   "cell_type": "markdown",
   "metadata": {},
   "source": [
    "# Tabla de visitas"
   ]
  },
  {
   "cell_type": "code",
   "execution_count": null,
   "metadata": {},
   "outputs": [],
   "source": [
    "query =\"\"\" CREATE TABLE IF NOT EXISTS Visitas \n",
    "            ( id SERIAL PRIMARY KEY,\n",
    "            fecha TIMESTAMP NOT NULL,\n",
    "              id_sucursal INTEGER NOT NULL,\n",
    "              FOREIGN KEY (id_sucursal)\n",
    "                REFERENCES Sucursal(id)\n",
    "                ON UPDATE CASCADE\n",
    "            )   \n",
    "            \"\"\"\n",
    "cur = myConnection.cursor()\n",
    "cur.execute(query)\n",
    "myConnection.commit()"
   ]
  },
  {
   "cell_type": "markdown",
   "metadata": {},
   "source": [
    "#### Alteré la tabla para no quitar los datos que ya estaban, para agregar el idcliente en visitas"
   ]
  },
  {
   "cell_type": "code",
   "execution_count": null,
   "metadata": {},
   "outputs": [],
   "source": [
    "query = \"\"\"ALTER TABLE Visitas\n",
    "            ADD COLUMN idcliente INTEGER\"\"\"\n",
    "cur = myConnection.cursor()\n",
    "cur.execute(query)\n",
    "cur.close()\n",
    "myConnection.commit()"
   ]
  },
  {
   "cell_type": "code",
   "execution_count": null,
   "metadata": {},
   "outputs": [],
   "source": [
    "query = \"\"\"ALTER TABLE Visitas ADD CONSTRAINT idCliente FOREIGN KEY (idCliente) REFERENCES  cliente(id) MATCH FULL\"\"\"\n",
    "cur = myConnection.cursor()\n",
    "cur.execute(query)\n",
    "cur.close()\n",
    "myConnection.commit()"
   ]
  },
  {
   "cell_type": "markdown",
   "metadata": {},
   "source": [
    "# Tabla de Club_Clientes"
   ]
  },
  {
   "cell_type": "code",
   "execution_count": null,
   "metadata": {},
   "outputs": [],
   "source": [
    "query =\"\"\" CREATE TABLE IF NOT EXISTS Club_Clientes \n",
    "            ( id SERIAL PRIMARY KEY,\n",
    "              id_cliente INTEGER NOT NULL,\n",
    "              puntos INTEGER NOT NULL,\n",
    "              visitas INTEGER NOT NULL,\n",
    "              FOREIGN KEY (id_cliente)\n",
    "                REFERENCES Cliente(id)\n",
    "                ON UPDATE CASCADE\n",
    "            )   \n",
    "            \"\"\"\n",
    "cur = myConnection.cursor()\n",
    "cur.execute(query)\n",
    "myConnection.commit()"
   ]
  },
  {
   "cell_type": "code",
   "execution_count": null,
   "metadata": {},
   "outputs": [],
   "source": []
  }
 ],
 "metadata": {
  "kernelspec": {
   "display_name": "Python 3",
   "language": "python",
   "name": "python3"
  },
  "language_info": {
   "codemirror_mode": {
    "name": "ipython",
    "version": 3
   },
   "file_extension": ".py",
   "mimetype": "text/x-python",
   "name": "python",
   "nbconvert_exporter": "python",
   "pygments_lexer": "ipython3",
   "version": "3.8.5"
  }
 },
 "nbformat": 4,
 "nbformat_minor": 4
}
