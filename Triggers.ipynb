{
  "nbformat": 4,
  "nbformat_minor": 0,
  "metadata": {
    "colab": {
      "name": "Triggers.ipynb",
      "provenance": [],
      "collapsed_sections": []
    },
    "kernelspec": {
      "name": "python3",
      "display_name": "Python 3"
    }
  },
  "cells": [
    {
      "cell_type": "code",
      "metadata": {
        "id": "2bcnZu6vQLg5",
        "outputId": "3c5abf71-4f17-47e0-9e23-260c96fd5485",
        "colab": {
          "base_uri": "https://localhost:8080/"
        }
      },
      "source": [
        "import psycopg2"
      ],
      "execution_count": 1,
      "outputs": [
        {
          "output_type": "stream",
          "text": [
            "/usr/local/lib/python3.6/dist-packages/psycopg2/__init__.py:144: UserWarning: The psycopg2 wheel package will be renamed from release 2.8; in order to keep installing from binary please use \"pip install psycopg2-binary\" instead. For details see: <http://initd.org/psycopg/docs/install.html#binary-install-from-pypi>.\n",
            "  \"\"\")\n"
          ],
          "name": "stderr"
        }
      ]
    },
    {
      "cell_type": "markdown",
      "metadata": {
        "id": "GWiHbgErQY3g"
      },
      "source": [
        "# Database Connection"
      ]
    },
    {
      "cell_type": "code",
      "metadata": {
        "id": "lJuQ7fp9QTpg"
      },
      "source": [
        "conn = psycopg2.connect(\n",
        "    host='ruby.db.elephantsql.com',\n",
        "    user ='fvhavaif',\n",
        "    password='THCA_nW8eWwmkuQ4mkobpS0qvZNLEYzE',\n",
        "    database='fvhavaif'\n",
        ")"
      ],
      "execution_count": 2,
      "outputs": []
    },
    {
      "cell_type": "markdown",
      "metadata": {
        "id": "MTLo_UKuQdcd"
      },
      "source": [
        "-------\n",
        "\n",
        "# Trigger 1 \n",
        "\n",
        "Cada vez que entre un cliente conocido, se debe agregar 1 punto a su estado de cuenta del\n",
        "programa de fidelidad."
      ]
    },
    {
      "cell_type": "code",
      "metadata": {
        "id": "6_4-wxsWQo_W"
      },
      "source": [
        "def createTriggerAddPointWhenClientVisit():\n",
        "    query = \"\"\"\n",
        "      CREATE OR REPLACE FUNCTION addPointsWhenClientVisit()\n",
        "        RETURNS TRIGGER AS $$\n",
        "          BEGIN\n",
        "            IF NEW.idcliente IN (\n",
        "                SELECT club_clientes.id_cliente\n",
        "                FROM club_clientes\n",
        "                WHERE  id_cliente=NEW.idcliente\n",
        "            )\n",
        "            THEN\n",
        "                UPDATE club_clientes\n",
        "                SET puntos = (puntos + 1)\n",
        "                WHERE id_cliente = NEW.idcliente;\n",
        "            END IF;\n",
        "            RETURN NEW;\n",
        "          END;\n",
        "\n",
        "        $$ LANGUAGE plpgsql;\n",
        "    ;\"\"\"\n",
        "\n",
        "    cur = conn.cursor()\n",
        "    cur.execute(query)\n",
        "    cur.close()\n",
        "    conn.commit()\n",
        "\n",
        "    query = \"\"\"\n",
        "      CREATE TRIGGER addPointsWhenClientVisit\n",
        "        AFTER INSERT ON visitas\n",
        "        FOR EACH ROW\n",
        "          EXECUTE PROCEDURE addPointsWhenClientVisit();  \n",
        "    \"\"\"\n",
        "    \n",
        "    cur = conn.cursor()\n",
        "    cur.execute(query)\n",
        "    cur.close()\n",
        "    conn.commit()\n",
        "\n",
        "createTriggerAddPointWhenClientVisit()\n"
      ],
      "execution_count": null,
      "outputs": []
    },
    {
      "cell_type": "markdown",
      "metadata": {
        "id": "jO2tkcLWNObW"
      },
      "source": [
        "\n",
        "\n",
        "---\n",
        "\n",
        "# Trigger 2\n",
        "\n",
        "Cada vez que un cliente conocido realice una compra, se le agregaran los puntos en su programa de fidelidad\n"
      ]
    },
    {
      "cell_type": "code",
      "metadata": {
        "id": "y0hvi88hN4ol"
      },
      "source": [
        "def createTriggerAddPointsIfClientBuy():\n",
        "    query = \"\"\"\n",
        "      CREATE OR REPLACE FUNCTION addPointsIfClientBuy()\n",
        "        RETURNS TRIGGER AS $$\n",
        "          DECLARE\n",
        "            _date DATE := (\n",
        "                SELECT MAX(fecha) FROM precio\n",
        "                WHERE idproducto=NEW.id_prod\n",
        "            )::date;\n",
        "\n",
        "            precio NUMERIC := (\n",
        "                SELECT precio.monto FROM precio\n",
        "                WHERE precio.idproducto = NEW.id_prod\n",
        "                AND fecha = _date\n",
        "            );\n",
        "\n",
        "            idClient NUMERIC := (\n",
        "                SELECT idcliente FROM factura\n",
        "                WHERE id=NEW.id_factura\n",
        "            );\n",
        "\n",
        "          BEGIN\n",
        "            IF NEW.id_factura IN (\n",
        "                SELECT factura.id FROM factura, club_clientes\n",
        "                WHERE factura.idcliente = club_clientes.id_cliente\n",
        "            ) THEN\n",
        "                UPDATE club_clientes\n",
        "                SET puntos = CAST((puntos + ((precio*NEW.cant) * 0.10)) as INT)\n",
        "                WHERE id_cliente = idClient;\n",
        "            END IF;\n",
        "            RETURN NEW;\n",
        "          END;\n",
        "\n",
        "        $$ LANGUAGE plpgsql;\n",
        "    \"\"\"\n",
        "\n",
        "    cur = conn.cursor()\n",
        "    cur.execute(query)\n",
        "    cur.close()\n",
        "    conn.commit()\n",
        "\n",
        "    query = \"\"\"\n",
        "      CREATE TRIGGER addPointsIfClientBuy\n",
        "        AFTER INSERT ON ventas\n",
        "        FOR EACH ROW\n",
        "          EXECUTE PROCEDURE addPointsIfClientBuy();\n",
        "    \"\"\"\n",
        "    \n",
        "    cur = conn.cursor()\n",
        "    cur.execute(query)\n",
        "    cur.close()\n",
        "    conn.commit()\n",
        "\n",
        "createTriggerAddPointsIfClientBuy()"
      ],
      "execution_count": null,
      "outputs": []
    },
    {
      "cell_type": "markdown",
      "metadata": {
        "id": "KtcVgoInBUwJ"
      },
      "source": [
        "\n",
        "\n",
        "---\n",
        "# Trigger 3 \n",
        "Si un cliente desconocido con la misma cedula compra mas de 4 veces, automáticamente se agregará al programa de fidelidad."
      ]
    },
    {
      "cell_type": "code",
      "metadata": {
        "id": "KxOAyAw9BfJ-"
      },
      "source": [
        "def addNewMember():\n",
        "    query = \"\"\"\n",
        "      CREATE OR REPLACE FUNCTION addNewMember()\n",
        "          RETURNS trigger AS $$\n",
        "              DECLARE\n",
        "                  purchases numeric := (SELECT COUNT(cliente.cedula) FROM cliente, factura\n",
        "                  WHERE cliente.id = factura.idcliente);\n",
        "              BEGIN\n",
        "                  IF NEW.idcliente NOT IN (\n",
        "                      SELECT id_cliente FROM club_clientes\n",
        "                      WHERE id_cliente = NEW.idcliente\n",
        "                  )\n",
        "                  THEN\n",
        "                      IF  (purchases > 4)\n",
        "                      THEN\n",
        "                          INSERT INTO club_clientes(id_cliente, puntos, visitas)\n",
        "                          VALUES (NEW.idcliente, 0, purchases);\n",
        "                      END IF;\n",
        "                  END IF;\n",
        "                  RETURN NEW;\n",
        "              END;\n",
        "      $$ LANGUAGE plpgsql\n",
        "    ;\"\"\"\n",
        "\n",
        "    cur = conn.cursor()\n",
        "    cur.execute(query)\n",
        "    cur.close()\n",
        "    conn.commit()\n",
        "\n",
        "    query = \"\"\"\n",
        "      CREATE TRIGGER addNewMember\n",
        "        AFTER INSERT ON factura\n",
        "        FOR EACH ROW\n",
        "          EXECUTE PROCEDURE addNewMember()\n",
        "    ;\"\"\"\n",
        "    \n",
        "    cur = conn.cursor()\n",
        "    cur.execute(query)\n",
        "    cur.close()\n",
        "    conn.commit()\n",
        "\n",
        "addNewMember()"
      ],
      "execution_count": null,
      "outputs": []
    }
  ]
}