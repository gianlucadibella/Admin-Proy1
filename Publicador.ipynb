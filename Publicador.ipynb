{
 "cells": [
  {
   "cell_type": "code",
   "execution_count": 1,
   "metadata": {},
   "outputs": [],
   "source": [
    "import time\n",
    "import paho.mqtt.client\n",
    "import paho.mqtt.publish\n",
    "import numpy as np\n",
    "import datetime\n",
    "import json\n",
    "import ssl\n",
    "import sys\n",
    "import psycopg2\n",
    "from sqlalchemy import create_engine"
   ]
  },
  {
   "cell_type": "code",
   "execution_count": null,
   "metadata": {},
   "outputs": [],
   "source": [
    "host = \"broker.hivemq.com\"\n",
    "\n",
    "client = paho.mqtt.client.Client(\"LosDiscretos\", False)\n",
    "\n",
    "client.qos = 1\n",
    "\n",
    "client.connect(host=host)"
   ]
  },
  {
   "cell_type": "code",
   "execution_count": 2,
   "metadata": {},
   "outputs": [],
   "source": [
    "def select(query):\n",
    "    cur = myConnection.cursor()\n",
    "    try:\n",
    "        cur.execute(query)\n",
    "    except Exception as e:\n",
    "        myConnection.commit()\n",
    "        print('Error en el query:', e)\n",
    "    else:\n",
    "        records = cur.fetchall()\n",
    "        cur.close()\n",
    "        return records"
   ]
  },
  {
   "cell_type": "code",
   "execution_count": 3,
   "metadata": {},
   "outputs": [],
   "source": [
    "myConnection = psycopg2.connect(host = 'lallah.db.elephantsql.com',\n",
    "                                user= 'okgedrkq', password ='OWJG1VssXGsfuUWTguGQoCmtZ5c5JZIp',\n",
    "                                dbname= 'okgedrkq')"
   ]
  },
  {
   "cell_type": "code",
   "execution_count": null,
   "metadata": {},
   "outputs": [],
   "source": [
    "query = \"\"\"CREATE TABLE IF NOT EXISTS Precio(ID SERIAL PRIMARY KEY,\n",
    "                                            monto float NOT NULL,\n",
    "                                            fecha timestamp NOT NULL,\n",
    "                                            idProducto INTEGER NOT NULL,\n",
    "                                            FOREIGN KEY(idProducto)\n",
    "                                            REFERENCES productos(id) \n",
    "                                            ON UPDATE CASCADE)\"\"\"\n",
    "cur = myConnection.cursor()\n",
    "cur.execute(query)\n",
    "cur.close()\n",
    "myConnection.commit()"
   ]
  },
  {
   "cell_type": "code",
   "execution_count": null,
   "metadata": {},
   "outputs": [],
   "source": [
    "query = \"\"\"CREATE TABLE IF NOT EXISTS Factura(ID SERIAL PRIMARY KEY,\n",
    "                                              fecha timestamp NOT NULL,\n",
    "                                              IS_PAGADA BOOLEAN NOT NULL,\n",
    "                                              MONTO_TOTAL float NOT NULL,\n",
    "                                              IVA float NOT NULL,\n",
    "                                              idCliente INTEGER NOT NULL,\n",
    "                                              FOREIGN KEY(idCliente)\n",
    "                                              REFERENCES cliente(id)\n",
    "                                              ON UPDATE CASCADE)\"\"\"\n",
    "cur = myConnection.cursor()\n",
    "cur.execute(query)\n",
    "cur.close()\n",
    "myConnection.commit()"
   ]
  },
  {
   "cell_type": "code",
   "execution_count": null,
   "metadata": {},
   "outputs": [],
   "source": [
    "query = \"\"\"CREATE TABLE IF NOT EXISTS Ventas(ID SERIAL PRIMARY KEY,\n",
    "                                              CANT INTEGER NOT NULL,\n",
    "                                              MONTO float NOT NULL,\n",
    "                                              ID_Prod INTEGER NOT NULL,\n",
    "                                              ID_Factura INTEGER NOT NULL,\n",
    "                                              FOREIGN KEY(id_Factura)\n",
    "                                              REFERENCES factura(id)\n",
    "                                              ON UPDATE CASCADE,\n",
    "                                              FOREIGN KEY(ID_Prod)\n",
    "                                              REFERENCES productos(id)\n",
    "                                              ON UPDATE CASCADE)\"\"\"\n",
    "cur = myConnection.cursor()\n",
    "cur.execute(query)\n",
    "cur.close()\n",
    "myConnection.commit()"
   ]
  },
  {
   "cell_type": "code",
   "execution_count": 4,
   "metadata": {},
   "outputs": [],
   "source": [
    "query = \"\"\"CREATE TABLE IF NOT EXISTS PAGO(ID SERIAL PRIMARY KEY,\n",
    "                                           MONTO float NOT NULL,\n",
    "                                           ID_Factura INTEGER NOT NULL,\n",
    "                                           FOREIGN KEY(id_Factura)\n",
    "                                           REFERENCES factura(id)\n",
    "                                           ON UPDATE CASCADE) \"\"\"\n",
    "cur = myConnection.cursor()\n",
    "cur.execute(query)\n",
    "cur.close()\n",
    "myConnection.commit()"
   ]
  },
  {
   "cell_type": "code",
   "execution_count": 5,
   "metadata": {},
   "outputs": [],
   "source": [
    "query = \"\"\"CREATE TABLE IF NOT EXISTS INSTRUMENTO(ID SERIAL PRIMARY KEY,\n",
    "                                                  TIPO VARCHAR(15) NOT NULL,\n",
    "                                                  BANCO VARCHAR(25),\n",
    "                                                  NUMERO INTEGER,\n",
    "                                                  ID_PAGO INTEGER NOT NULL,\n",
    "                                                  FOREIGN KEY(ID_PAGO)\n",
    "                                                  REFERENCES PAGO(id)\n",
    "                                                  ON UPDATE CASCADE) \"\"\"\n",
    "cur = myConnection.cursor()\n",
    "cur.execute(query)\n",
    "cur.close()\n",
    "myConnection.commit()"
   ]
  },
  {
   "cell_type": "code",
   "execution_count": null,
   "metadata": {},
   "outputs": [],
   "source": []
  }
 ],
 "metadata": {
  "kernelspec": {
   "display_name": "Python 3",
   "language": "python",
   "name": "python3"
  },
  "language_info": {
   "codemirror_mode": {
    "name": "ipython",
    "version": 3
   },
   "file_extension": ".py",
   "mimetype": "text/x-python",
   "name": "python",
   "nbconvert_exporter": "python",
   "pygments_lexer": "ipython3",
   "version": "3.8.5"
  }
 },
 "nbformat": 4,
 "nbformat_minor": 4
}
