{
 "cells": [
  {
   "cell_type": "code",
   "execution_count": 7,
   "metadata": {},
   "outputs": [],
   "source": [
    "import psycopg2\n",
    "import datetime\n",
    "import json\n",
    "from sqlalchemy import create_engine, text\n",
    "import pandas as pd"
   ]
  },
  {
   "cell_type": "code",
   "execution_count": 8,
   "metadata": {},
   "outputs": [],
   "source": [
    "def select(query):\n",
    "    cur = myConnection.cursor()\n",
    "    try:\n",
    "        cur.execute(query)\n",
    "    except Exception as e:\n",
    "        myConnection.commit()\n",
    "        print('Error en el query:', e)\n",
    "    else:\n",
    "        records = cur.fetchall()\n",
    "        cur.close()\n",
    "        return records"
   ]
  },
  {
   "cell_type": "code",
   "execution_count": 9,
   "metadata": {},
   "outputs": [],
   "source": [
    "def pretty_select(query):\n",
    "    connection_string = 'postgres://{}:{}@{}:5432/{}'.format('okgedrkq', 'OWJG1VssXGsfuUWTguGQoCmtZ5c5JZIp', 'lallah.db.elephantsql.com', 'okgedrkq')\n",
    "    try:\n",
    "        engine = create_engine(connection_string)\n",
    "        records = pd.read_sql_query(query, engine)\n",
    "    except Exception as e:\n",
    "        print('Error en el query:', e)\n",
    "    else:\n",
    "        return records"
   ]
  },
  {
   "cell_type": "code",
   "execution_count": 10,
   "metadata": {},
   "outputs": [],
   "source": [
    "myConnection = psycopg2.connect(host = 'lallah.db.elephantsql.com',\n",
    "                                user= 'okgedrkq', password ='OWJG1VssXGsfuUWTguGQoCmtZ5c5JZIp',\n",
    "                                dbname= 'okgedrkq')"
   ]
  },
  {
   "cell_type": "markdown",
   "metadata": {},
   "source": [
    "## Función de compras"
   ]
  },
  {
   "cell_type": "code",
   "execution_count": null,
   "metadata": {},
   "outputs": [],
   "source": [
    "def carrito():\n",
    "    query = \"\"\"CREATE TYPE carrito AS(producto INTEGER, cantidad INTEGER)\"\"\"\n",
    "    cur = myConnection.cursor()\n",
    "    cur.execute(query)\n",
    "    cur.close()\n",
    "    myConnection.commit()\n",
    "carrito()"
   ]
  },
  {
   "cell_type": "code",
   "execution_count": null,
   "metadata": {},
   "outputs": [],
   "source": [
    "def comprar(producto, idcliente, banco, fecha, idsucursal):\n",
    "    query = \"\"\"CREATE OR REPLACE FUNCTION compra(producto carrito[], idCliente INTEGER, banco varchar(25), fecha timestamp, idSucursal INTEGER)\n",
    "    RETURNS void as $$\n",
    "    DECLARE\n",
    "        factura integer;\n",
    "\t\tpago integer;\n",
    "    BEGIN\n",
    "        IF ARRAY_LENGTH(producto,1)>0 THEN\n",
    "        INSERT INTO factura(fecha, is_pagada, monto_total, iva, idCliente, idSucursal, banco)\n",
    "        VALUES(fecha, true, 100, 12.90, idCliente, idSucursal, banco) RETURNING factura.id INTO factura;\n",
    "        INSERT INTO pago(monto,id_factura)\n",
    "        VALUES(0,factura) RETURNING pago.id INTO pago;\n",
    "        INSERT INTO Ventas(cant, monto, id_prod, id_factura)\n",
    "        SELECT c.cantidad,0,c.producto,factura FROM UNNEST(producto) AS c;\n",
    "    ELSE\n",
    "        RAISE EXCEPTION 'The cart is empty or null %', now();\n",
    "    END IF;\n",
    "    END;\n",
    "    $$ \n",
    "    LANGUAGE plpgsql\"\"\"\n",
    "    cur = myConnection.cursor()\n",
    "    cur.execute(query)\n",
    "    cur.close()\n",
    "    myConnection.commit()\n",
    "    \n",
    "    query = f\"\"\" SELECT compra(array{producto}::carrito[], '{idcliente}', '{banco}', '{fecha}', {idsucursal})\"\"\"\n",
    "    cur = myConnection.cursor()\n",
    "    cur.execute(query)\n",
    "    cur.close()\n",
    "    myConnection.commit()\n",
    "    \n",
    "# mock client\n",
    "\n",
    "client = '{\"client\": \"1\", \"list\":[{\"producto\":1, \"cant\":8}, {\"producto\":2, \"cant\":17}]}'\n",
    "data = json.loads(client)\n",
    "car = []\n",
    "for i in data['list']:\n",
    "    car.append((i['producto'], i['cant']))\n",
    "    \n",
    "comprar(car, 2, 'Banesco', '2020-11-10', 2)\n",
    "        \n",
    "    \n",
    "    "
   ]
  },
  {
   "cell_type": "markdown",
   "metadata": {},
   "source": [
    "## Funcion de estado de cuenta"
   ]
  },
  {
   "cell_type": "code",
   "execution_count": null,
   "metadata": {},
   "outputs": [],
   "source": [
    "print(datetime.datetime.now())"
   ]
  },
  {
   "cell_type": "code",
   "execution_count": null,
   "metadata": {},
   "outputs": [],
   "source": [
    "def estadoDeCuenta(diaActual):\n",
    "    query =\"\"\"CREATE OR REPLACE FUNCTION estadoDeCuenta1(dia TIMESTAMP)\n",
    "    RETURNS TABLE(BANCOACTUAL VARCHAR(25), MONTO FLOAT, fecha DATE) as $$\n",
    "    DECLARE\n",
    "        bancos varchar[] := '{\"Provincial\",\"Mercantil\",\"Banesco\"}';\n",
    "\t\tmontoAux FLOAT;\n",
    "\t\ti VARCHAR;\n",
    "    BEGIN\n",
    "        FOREACH i IN ARRAY bancos LOOP\n",
    "\t\t\tBANCOACTUAL:=i;\n",
    "\t\t\tIF i IN(SELECT FACTURA.BANCO FROM FACTURA\n",
    "\t\t\t\t   WHERE DATE(FACTURA.FECHA)<= DATE(dia))THEN\n",
    "\t\t\t\t   SELECT SUM(MONTO_TOTAL) INTO montoAux FROM factura\n",
    "\t\t\t\t   WHERE banco=i AND DATE(FACTURA.FECHA) <= DATE(DIA);\n",
    "\t\t\t\t   MONTO:=montoAux;\n",
    "\t\t\t\t   fecha := dia;\n",
    "\t\t\t\t   montoAux := 0;\n",
    "\t\t\t\t   RETURN NEXT;\n",
    "    \t\tELSE\n",
    "\t\t\t\tMONTO :=0;\n",
    "\t\t\t\tFECHA:=DIA;\n",
    "\t\t\t\tRETURN NEXT;\n",
    "\t\t\tEND IF;\n",
    "\t\tEND LOOP;\n",
    "\tEND;\t\t\n",
    "    $$ LANGUAGE plpgsql\"\"\"\n",
    "    cur = myConnection.cursor()\n",
    "    cur.execute(query)\n",
    "    cur.close()\n",
    "    myConnection.commit()\n",
    "    estadoDeCuenta(datetime.datetime.now())"
   ]
  },
  {
   "cell_type": "code",
   "execution_count": 6,
   "metadata": {},
   "outputs": [
    {
     "data": {
      "text/html": [
       "<div>\n",
       "<style scoped>\n",
       "    .dataframe tbody tr th:only-of-type {\n",
       "        vertical-align: middle;\n",
       "    }\n",
       "\n",
       "    .dataframe tbody tr th {\n",
       "        vertical-align: top;\n",
       "    }\n",
       "\n",
       "    .dataframe thead th {\n",
       "        text-align: right;\n",
       "    }\n",
       "</style>\n",
       "<table border=\"1\" class=\"dataframe\">\n",
       "  <thead>\n",
       "    <tr style=\"text-align: right;\">\n",
       "      <th></th>\n",
       "      <th>bancoactual</th>\n",
       "      <th>monto</th>\n",
       "      <th>fecha</th>\n",
       "    </tr>\n",
       "  </thead>\n",
       "  <tbody>\n",
       "    <tr>\n",
       "      <th>0</th>\n",
       "      <td>Provincial</td>\n",
       "      <td>0.0</td>\n",
       "      <td>2020-11-10</td>\n",
       "    </tr>\n",
       "    <tr>\n",
       "      <th>1</th>\n",
       "      <td>Mercantil</td>\n",
       "      <td>0.0</td>\n",
       "      <td>2020-11-10</td>\n",
       "    </tr>\n",
       "    <tr>\n",
       "      <th>2</th>\n",
       "      <td>Banesco</td>\n",
       "      <td>100.0</td>\n",
       "      <td>2020-11-10</td>\n",
       "    </tr>\n",
       "  </tbody>\n",
       "</table>\n",
       "</div>"
      ],
      "text/plain": [
       "  bancoactual  monto       fecha\n",
       "0  Provincial    0.0  2020-11-10\n",
       "1   Mercantil    0.0  2020-11-10\n",
       "2     Banesco  100.0  2020-11-10"
      ]
     },
     "execution_count": 6,
     "metadata": {},
     "output_type": "execute_result"
    }
   ],
   "source": [
    "query = f\"\"\"SELECT * FROM estadoDeCuenta1('{datetime.datetime.now()}')\"\"\"\n",
    "pretty_select(text(query))"
   ]
  },
  {
   "cell_type": "markdown",
   "metadata": {},
   "source": [
    "## Funcion puntos de afiliados "
   ]
  },
  {
   "cell_type": "code",
   "execution_count": 12,
   "metadata": {},
   "outputs": [],
   "source": [
    "def puntosDeClientes(ultimoDiaMes):\n",
    "    query = \"\"\"CREATE OR REPLACE FUNCTION puntosDeAfiliados(ultimoDiaMes timestamp)\n",
    "\tRETURNS TABLE(clienteId INTEGER, puntos INTEGER) AS $$\n",
    "\tDECLARE\n",
    "\t\tX RECORD;\n",
    "\t\tULTIMO DATE;\n",
    "\tBEGIN\n",
    "\tSELECT (date_trunc('MONTH',DATE(ultimoDiaMes)) + INTERVAL '1 month' - INTERVAL '1 day')::date into ultimo;\n",
    "\tIF EXTRACT(DAY FROM ultimoDiaMes) = EXTRACT(DAY FROM ULTIMO) THEN\n",
    "\tFOR X IN (SELECT DISTINCT id_cliente AS idCliente, club_clientes.puntos FROM club_clientes\n",
    "\t\t\t INNER JOIN FACTURA ON idCliente = FACTURA.idCliente\n",
    "\t\t\t WHERE factura.idCliente = idCliente AND FACTURA.fecha > ultimoDiaMes - INTERVAL '1 MONTH' AND \n",
    "\t\t\t FACTURA.FECHA < ultimoDiaMes + INTERVAL '1 day' ORDER BY puntos DESC) LOOP\n",
    "\t\t\t \tclienteId := X.idcliente;\n",
    "\t\t\t\tpuntos := X.puntos;\n",
    "\t\t\t\tRETURN NEXT;\n",
    "\t\t\t END LOOP;\n",
    "\tELSE\n",
    "\t\tRAISE EXCEPTION 'Debe usar la funcion a final de mes%',EXTRACT(DAY FROM ultimoDiaMes);\n",
    "\tEND IF;\n",
    " END;\n",
    " $$ \n",
    " LANGUAGE plpgsql\"\"\"\n",
    "    cur = myConnection.cursor()\n",
    "    cur.execute(query)\n",
    "    cur.close()\n",
    "    myConnection.commit()\n",
    "    puntosDeClientes('2020-11-30')"
   ]
  },
  {
   "cell_type": "code",
   "execution_count": 14,
   "metadata": {},
   "outputs": [
    {
     "data": {
      "text/html": [
       "<div>\n",
       "<style scoped>\n",
       "    .dataframe tbody tr th:only-of-type {\n",
       "        vertical-align: middle;\n",
       "    }\n",
       "\n",
       "    .dataframe tbody tr th {\n",
       "        vertical-align: top;\n",
       "    }\n",
       "\n",
       "    .dataframe thead th {\n",
       "        text-align: right;\n",
       "    }\n",
       "</style>\n",
       "<table border=\"1\" class=\"dataframe\">\n",
       "  <thead>\n",
       "    <tr style=\"text-align: right;\">\n",
       "      <th></th>\n",
       "      <th>clienteid</th>\n",
       "      <th>puntos</th>\n",
       "    </tr>\n",
       "  </thead>\n",
       "  <tbody>\n",
       "    <tr>\n",
       "      <th>0</th>\n",
       "      <td>2</td>\n",
       "      <td>10</td>\n",
       "    </tr>\n",
       "    <tr>\n",
       "      <th>1</th>\n",
       "      <td>1</td>\n",
       "      <td>0</td>\n",
       "    </tr>\n",
       "  </tbody>\n",
       "</table>\n",
       "</div>"
      ],
      "text/plain": [
       "   clienteid  puntos\n",
       "0          2      10\n",
       "1          1       0"
      ]
     },
     "execution_count": 14,
     "metadata": {},
     "output_type": "execute_result"
    }
   ],
   "source": [
    "query = f\"\"\"SELECT * FROM puntosDeAfiliados('2020-11-30')\"\"\"\n",
    "pretty_select(text(query))"
   ]
  }
 ],
 "metadata": {
  "kernelspec": {
   "display_name": "Python 3",
   "language": "python",
   "name": "python3"
  },
  "language_info": {
   "codemirror_mode": {
    "name": "ipython",
    "version": 3
   },
   "file_extension": ".py",
   "mimetype": "text/x-python",
   "name": "python",
   "nbconvert_exporter": "python",
   "pygments_lexer": "ipython3",
   "version": "3.8.5"
  }
 },
 "nbformat": 4,
 "nbformat_minor": 4
}
