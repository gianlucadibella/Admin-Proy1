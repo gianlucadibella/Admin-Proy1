{
 "cells": [
  {
   "cell_type": "code",
   "execution_count": 1,
   "metadata": {},
   "outputs": [],
   "source": [
    "import psycopg2\n",
    "import datetime\n",
    "from datetime import date\n",
    "import json\n",
    "from sqlalchemy import create_engine, text\n",
    "import pandas as pd"
   ]
  },
  {
   "cell_type": "code",
   "execution_count": 2,
   "metadata": {},
   "outputs": [],
   "source": [
    "def select(query):\n",
    "    cur = myConnection.cursor()\n",
    "    try:\n",
    "        cur.execute(query)\n",
    "    except Exception as e:\n",
    "        myConnection.commit()\n",
    "        print('Error en el query:', e)\n",
    "    else:\n",
    "        records = cur.fetchall()\n",
    "        cur.close()\n",
    "        return records"
   ]
  },
  {
   "cell_type": "code",
   "execution_count": 3,
   "metadata": {},
   "outputs": [],
   "source": [
    "def pretty_select(query):\n",
    "    connection_string = 'postgres://{}:{}@{}:5432/{}'.format('okgedrkq', 'OWJG1VssXGsfuUWTguGQoCmtZ5c5JZIp', 'lallah.db.elephantsql.com', 'okgedrkq')\n",
    "    try:\n",
    "        engine = create_engine(connection_string)\n",
    "        records = pd.read_sql_query(query, engine)\n",
    "    except Exception as e:\n",
    "        print('Error en el query:', e)\n",
    "    else:\n",
    "        return records"
   ]
  },
  {
   "cell_type": "code",
   "execution_count": 4,
   "metadata": {},
   "outputs": [],
   "source": [
    "myConnection = psycopg2.connect(host = 'lallah.db.elephantsql.com',\n",
    "                                user= 'okgedrkq', password ='OWJG1VssXGsfuUWTguGQoCmtZ5c5JZIp',\n",
    "                                dbname= 'okgedrkq')"
   ]
  },
  {
   "cell_type": "markdown",
   "metadata": {},
   "source": [
    "## Función de compras"
   ]
  },
  {
   "cell_type": "code",
   "execution_count": null,
   "metadata": {},
   "outputs": [],
   "source": [
    "def carrito():\n",
    "    query = \"\"\"CREATE TYPE carrito AS(producto INTEGER, cantidad INTEGER)\"\"\"\n",
    "    cur = myConnection.cursor()\n",
    "    cur.execute(query)\n",
    "    cur.close()\n",
    "    myConnection.commit()\n",
    "carrito()"
   ]
  },
  {
   "cell_type": "code",
   "execution_count": 7,
   "metadata": {},
   "outputs": [
    {
     "name": "stdout",
     "output_type": "stream",
     "text": [
      "[(1, 18), (2, 1)]\n"
     ]
    }
   ],
   "source": [
    "def comprar(producto, idcliente, banco, fecha, idsucursal, montoAfacturar):\n",
    "    query = \"\"\"CREATE OR REPLACE FUNCTION compraGustavo(producto carrito[], idCliente INTEGER, banco text, fecha numeric, idSucursal INTEGER, montoAfacturar FLOAT)\n",
    "    RETURNS void as $$\n",
    "    DECLARE\n",
    "        factura integer;\n",
    "\t\tpago integer;\n",
    "    BEGIN\n",
    "        IF ARRAY_LENGTH(producto,1)>0 THEN\n",
    "        INSERT INTO factura(fecha, is_pagada, monto_total, iva, idCliente, idSucursal, banco)\n",
    "        VALUES(to_timestamp(fecha), true, montoAfacturar, montoAfacturar*0.12 , idCliente, idSucursal, banco) RETURNING factura.id INTO factura;\n",
    "        INSERT INTO pago(monto,id_factura)\n",
    "        VALUES(montoAfacturar,factura) RETURNING pago.id INTO pago;\n",
    "        INSERT INTO Ventas(cant, monto, id_prod, id_factura)\n",
    "        SELECT c.cantidad,montoAfacturar,c.producto,factura FROM UNNEST(producto) AS c;\n",
    "    ELSE\n",
    "        RAISE EXCEPTION 'El carrito esta vacio%', now();\n",
    "    END IF;\n",
    "    END;\n",
    "    $$ \n",
    "    LANGUAGE plpgsql\"\"\"\n",
    "    cur = myConnection.cursor()\n",
    "    cur.execute(query)\n",
    "    cur.close()\n",
    "    myConnection.commit()\n",
    "    \n",
    "    query = f\"\"\" SELECT compraGustavo(array{producto}::carrito[], '{idcliente}', '{banco}','{fecha}', {idsucursal}, {montoAfacturar})\"\"\"\n",
    "    cur = myConnection.cursor()\n",
    "    cur.execute(query)\n",
    "    cur.close()\n",
    "    myConnection.commit()\n",
    "    \n",
    "comprador = '{\"id\": \"1\", \"carrito\":[{\"producto\":1, \"cant\":18}, {\"producto\":2, \"cant\":1}]}'\n",
    "data = json.loads(comprador)\n",
    "car = []\n",
    "for i in data['carrito']:\n",
    "    car.append((i['producto'], i['cant']))\n",
    "print(car)\n",
    "# dd/mm/YY\n",
    "today = date.today()\n",
    "fecha = today.strftime(\"%Y-%m-%d\")\n",
    "actualDate = datetime.datetime.now()\n",
    "timeStamp = actualDate.timestamp()\n",
    "comprar(car, 2, 'Mercantil', timeStamp, 2, 812)\n",
    "        \n",
    "    \n",
    "    "
   ]
  },
  {
   "cell_type": "markdown",
   "metadata": {},
   "source": [
    "## Funcion de estado de cuenta"
   ]
  },
  {
   "cell_type": "code",
   "execution_count": null,
   "metadata": {},
   "outputs": [],
   "source": [
    "def estadoDeCuenta(diaActual):\n",
    "    query =\"\"\"CREATE OR REPLACE FUNCTION estadoDeCuenta1(dia TIMESTAMP)\n",
    "    RETURNS TABLE(BANCOACTUAL VARCHAR(25), MONTO FLOAT, fecha DATE) as $$\n",
    "    DECLARE\n",
    "        bancos varchar[] := '{\"Provincial\",\"Mercantil\",\"Banesco\"}';\n",
    "\t\tmontoAux FLOAT;\n",
    "\t\ti VARCHAR;\n",
    "    BEGIN\n",
    "        FOREACH i IN ARRAY bancos LOOP\n",
    "\t\t\tBANCOACTUAL:=i;\n",
    "\t\t\tIF i IN(SELECT FACTURA.BANCO FROM FACTURA\n",
    "\t\t\t\t   WHERE DATE(FACTURA.FECHA)<= DATE(dia))THEN\n",
    "\t\t\t\t   SELECT SUM(MONTO_TOTAL) INTO montoAux FROM factura\n",
    "\t\t\t\t   WHERE banco=i AND DATE(FACTURA.FECHA) <= DATE(DIA);\n",
    "\t\t\t\t   MONTO:=montoAux;\n",
    "\t\t\t\t   fecha := dia;\n",
    "\t\t\t\t   montoAux := 0;\n",
    "\t\t\t\t   RETURN NEXT;\n",
    "    \t\tELSE\n",
    "\t\t\t\tMONTO :=0;\n",
    "\t\t\t\tFECHA:=DIA;\n",
    "\t\t\t\tRETURN NEXT;\n",
    "\t\t\tEND IF;\n",
    "\t\tEND LOOP;\n",
    "\tEND;\t\t\n",
    "    $$ LANGUAGE plpgsql\"\"\"\n",
    "    cur = myConnection.cursor()\n",
    "    cur.execute(query)\n",
    "    cur.close()\n",
    "    myConnection.commit()\n",
    "    estadoDeCuenta(datetime.datetime.now())"
   ]
  },
  {
   "cell_type": "code",
   "execution_count": null,
   "metadata": {},
   "outputs": [],
   "source": [
    "query = f\"\"\"SELECT * FROM estadoDeCuenta1('{datetime.datetime.now()}')\"\"\"\n",
    "pretty_select(text(query))"
   ]
  },
  {
   "cell_type": "markdown",
   "metadata": {},
   "source": [
    "## Funcion puntos de afiliados "
   ]
  },
  {
   "cell_type": "code",
   "execution_count": null,
   "metadata": {},
   "outputs": [],
   "source": [
    "def puntosDeClientes(ultimoDiaMes):\n",
    "    query = \"\"\"CREATE OR REPLACE FUNCTION puntosDeAfiliados(ultimoDiaMes timestamp)\n",
    "\tRETURNS TABLE(clienteId INTEGER, puntos INTEGER) AS $$\n",
    "\tDECLARE\n",
    "\t\tX RECORD;\n",
    "\t\tULTIMO DATE;\n",
    "\tBEGIN\n",
    "\tSELECT (date_trunc('MONTH',DATE(ultimoDiaMes)) + INTERVAL '1 month' - INTERVAL '1 day')::date into ultimo;\n",
    "\tIF EXTRACT(DAY FROM ultimoDiaMes) = EXTRACT(DAY FROM ULTIMO) THEN\n",
    "\tFOR X IN (SELECT DISTINCT id_cliente AS idCliente, club_clientes.puntos FROM club_clientes\n",
    "\t\t\t INNER JOIN FACTURA ON idCliente = FACTURA.idCliente\n",
    "\t\t\t WHERE factura.idCliente = idCliente AND FACTURA.fecha > ultimoDiaMes - INTERVAL '1 MONTH' AND \n",
    "\t\t\t FACTURA.FECHA < ultimoDiaMes + INTERVAL '1 day' ORDER BY puntos DESC) LOOP\n",
    "\t\t\t \tclienteId := X.idcliente;\n",
    "\t\t\t\tpuntos := X.puntos;\n",
    "\t\t\t\tRETURN NEXT;\n",
    "\t\t\t END LOOP;\n",
    "\tELSE\n",
    "\t\tRAISE EXCEPTION 'Debe usar la funcion a final de mes%',EXTRACT(DAY FROM ultimoDiaMes);\n",
    "\tEND IF;\n",
    " END;\n",
    " $$ \n",
    " LANGUAGE plpgsql\"\"\"\n",
    "    cur = myConnection.cursor()\n",
    "    cur.execute(query)\n",
    "    cur.close()\n",
    "    myConnection.commit()\n",
    "    puntosDeClientes('2020-11-30')"
   ]
  },
  {
   "cell_type": "code",
   "execution_count": null,
   "metadata": {},
   "outputs": [],
   "source": [
    "query = f\"\"\"SELECT * FROM puntosDeAfiliados('2020-11-30')\"\"\"\n",
    "pretty_select(text(query))"
   ]
  },
  {
   "cell_type": "code",
   "execution_count": null,
   "metadata": {},
   "outputs": [],
   "source": []
  }
 ],
 "metadata": {
  "kernelspec": {
   "display_name": "Python 3",
   "language": "python",
   "name": "python3"
  },
  "language_info": {
   "codemirror_mode": {
    "name": "ipython",
    "version": 3
   },
   "file_extension": ".py",
   "mimetype": "text/x-python",
   "name": "python",
   "nbconvert_exporter": "python",
   "pygments_lexer": "ipython3",
   "version": "3.8.5"
  }
 },
 "nbformat": 4,
 "nbformat_minor": 4
}
